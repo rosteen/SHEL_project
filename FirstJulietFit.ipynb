{
 "cells": [
  {
   "cell_type": "markdown",
   "id": "09f0720b",
   "metadata": {},
   "source": [
    "### First Juliet fit of WASP-17\n",
    "\n",
    "Trying a joint fit with the first RV data I have in the DB (since it was already in BJD-TDB) and the two TESS light curves.\n",
    "\n",
    "Initially copying the code from https://juliet.readthedocs.io/en/latest/tutorials/jointfits.html and editing to fit my data. \n",
    "\n",
    "Parameter values from https://exo.mast.stsci.edu/exomast_planet.html?planet=WASP17b (TESS-DV):\n",
    "\n",
    "*Star*\n",
    "\n",
    "Rs [R☉] 1.2 +0.081/-0.08\n",
    "\n",
    "V mag 11.6\n",
    "\n",
    "Ms [M☉] 1.19 ±0.03\n",
    "\n",
    "K mag 10.2\n",
    "\n",
    "[Fe/H] -0.25 ±0.09\n",
    "\n",
    "RA [h:m:s] 15:59:50.947\n",
    "\n",
    "log10(g) [cgs] 4.2 ±0.2\n",
    "\n",
    "Dec [h:m:s] -28:03:42.30\n",
    "\n",
    "Teff [K] 6550 ±100\n",
    "\n",
    "Distance [pc] 400 ±60\n",
    "\n",
    "Star Name WASP-17\n",
    "\n",
    "TESS Mag 10.22\n",
    "\n",
    "*Planetary System*\n",
    "\n",
    "Rp [Rj] 1.932 +0.05/-0.1\n",
    "\n",
    "Teq [K] 1546.58\n",
    "\n",
    "Period [day] 3.735433 +7.5e-6/-7.7e-6\n",
    "\n",
    "Transit Epoch [MJD] 54558.68096 +2.5e-4/-2.1e-4\n",
    "\n",
    "Transit Duration [hour] 4.4232 +0.0312/-0.024\n",
    "\n",
    "Depth [%] 1.672 +0.02/-0.016\n",
    "\n",
    "Impact Parameter 0.4 ±0.04\t\n",
    "\n",
    "a/Rs 8.968 ±0.62"
   ]
  },
  {
   "cell_type": "code",
   "execution_count": 1,
   "id": "bf773472",
   "metadata": {
    "ExecuteTime": {
     "end_time": "2022-02-23T17:57:08.985725Z",
     "start_time": "2022-02-23T17:57:05.746437Z"
    }
   },
   "outputs": [
    {
     "name": "stderr",
     "output_type": "stream",
     "text": [
      "/Users/rosteen/opt/anaconda3/envs/juliet/lib/python3.9/site-packages/autograd/numpy/numpy_wrapper.py:20: DeprecationWarning: `np.int` is a deprecated alias for the builtin `int`. To silence this warning, use `int` by itself. Doing this will not modify any behavior and is safe. When replacing `np.int`, you may wish to use e.g. `np.int64` or `np.int32` to specify the precision. If you wish to review your current use, check the release note link for additional information.\n",
      "Deprecated in NumPy 1.20; for more details and guidance: https://numpy.org/devdocs/release/1.20.0-notes.html#deprecations\n",
      "  int_types = {_np.int, _np.int8, _np.int16, _np.int32, _np.int64, _np.integer}\n"
     ]
    }
   ],
   "source": [
    "import juliet\n",
    "import sqlite3 as sql\n",
    "import astropy.units as u\n",
    "import numpy as np\n",
    "import matplotlib.pyplot as plt\n",
    "import matplotlib.gridspec as gridspec\n",
    "import pickle"
   ]
  },
  {
   "cell_type": "code",
   "execution_count": null,
   "id": "c5009fa2",
   "metadata": {},
   "outputs": [],
   "source": []
  },
  {
   "cell_type": "code",
   "execution_count": 6,
   "id": "8924f8c0",
   "metadata": {
    "ExecuteTime": {
     "end_time": "2022-02-22T21:27:03.867745Z",
     "start_time": "2022-02-22T21:27:03.860614Z"
    }
   },
   "outputs": [],
   "source": [
    "# Define the master prior dictionary. First define the TRANSIT priors:\n",
    "priors = {}\n",
    "\n",
    "# Name of the parameters to be fit:\n",
    "params = ['P_p1', \n",
    "          't0_p1', \n",
    "          'a_p1', \n",
    "          'b_p1',\n",
    "          'p_p1',\n",
    "          'q1_TESS', \n",
    "          'q2_TESS', \n",
    "          'ecc_p1', \n",
    "          'omega_p1',\n",
    "          'rho', \n",
    "          'mdilution_TESS', \n",
    "          'mflux_TESS', \n",
    "          'sigma_w_TESS']\n",
    "\n",
    "# Distribution for each of the parameters:\n",
    "dists = ['normal','normal','normal','normal','normal','uniform',\n",
    "         'uniform','fixed','fixed','loguniform', 'fixed', 'normal', \n",
    "         'loguniform']\n",
    "\n",
    "# Hyperparameters of the distributions (mean and standard-deviation for normal\n",
    "# distributions, lower and upper limits for uniform and loguniform distributions, and\n",
    "# fixed values for fixed \"distributions\", which assume the parameter is fixed). Note prior\n",
    "# on t0 has an added 2400000.5 to convert from MJD to JD:\n",
    "hyperps = [[3.735433, 7.7e-6], \n",
    "           [2400000.5 + 54558.68096, 2.5e-4], \n",
    "           [8.968, 0.62], \n",
    "           [0.4, 0.04], \n",
    "           [1.2931, 0.011],\n",
    "           [0., 1.], \n",
    "           [0., 1.], \n",
    "           0.0, \n",
    "           90., \n",
    "           [100., 10000.], \n",
    "           1.0, \n",
    "           [0.,0.1], \n",
    "           [0.1, 1000.]]\n",
    "\n",
    "# Populate the priors dictionary:\n",
    "for param, dist, hyperp in zip(params, dists, hyperps):\n",
    "    priors[param] = {}\n",
    "    priors[param]['distribution'], priors[param]['hyperparameters'] = dist, hyperp\n",
    "\n",
    "# Now define the RV priors:\n",
    "params = ['mu_MIKE', \n",
    "          'K_p1', \n",
    "          'sigma_w_MIKE']\n",
    "\n",
    "# Distributions:\n",
    "dists = ['uniform', 'uniform', 'uniform']\n",
    "\n",
    "# Hyperparameters\n",
    "hyperps = [[-100,100], [-100,100], [-100,100]]\n",
    "\n",
    "# Populate the priors dictionary:\n",
    "for param, dist, hyperp in zip(params, dists, hyperps):\n",
    "    priors[param] = {}\n",
    "    priors[param]['distribution'], priors[param]['hyperparameters'] = dist, hyperp"
   ]
  },
  {
   "cell_type": "code",
   "execution_count": 7,
   "id": "18c0170d",
   "metadata": {
    "ExecuteTime": {
     "end_time": "2022-02-22T21:27:04.833276Z",
     "start_time": "2022-02-22T21:27:04.735311Z"
    }
   },
   "outputs": [
    {
     "name": "stdout",
     "output_type": "stream",
     "text": [
      "{'TESS': array([0.9957258701324463, 0.9982753396034241, 0.9994407892227173, ...,\n",
      "       0.9994415044784546, 1.001538872718811, 0.9969558715820312],\n",
      "      dtype=object)}\n",
      "{'MIKE': array([-58.107, -32.591,   6.698,  -2.553,  77.061])}\n"
     ]
    }
   ],
   "source": [
    "## Sometimes after running this cell once the fit errors, but if I run this again \n",
    "## it succeeds. Not sure why...\n",
    "\n",
    "# Light curve data\n",
    "times, fluxes, fluxes_error = {},{},{}\n",
    "# RV data\n",
    "times_rv, data_rv, errors_rv = {}, {}, {}\n",
    "\n",
    "# Get data from DB and populate dictionaries\n",
    "conn = sql.connect(\"shel_database.sqlite\")\n",
    "cur = conn.cursor()\n",
    "\n",
    "# Tess light curves\n",
    "res = cur.execute(\"select * from light_curves where target_id = 42\").fetchall()\n",
    "res = np.array(res)\n",
    "t = res[:, 3]\n",
    "f = res[:, 4]\n",
    "f_err = res[:, 5]\n",
    "\n",
    "\n",
    "times['TESS'], fluxes['TESS'], fluxes_error['TESS'] = t, f, f_err\n",
    "\n",
    "# MIKE RV data\n",
    "res = cur.execute(\"select * from radial_velocities where target_id = 42 and instrument = 5\").fetchall()\n",
    "res = np.array(res)\n",
    "\n",
    "t = res[:,3]\n",
    "rv = res[:,4]\n",
    "rv_err = res[:,5]\n",
    "\n",
    "times_rv['MIKE'], data_rv['MIKE'], errors_rv['MIKE'] = t, rv, rv_err\n",
    "\n",
    "print(fluxes)\n",
    "print(data_rv)"
   ]
  },
  {
   "cell_type": "code",
   "execution_count": 8,
   "id": "cb041467",
   "metadata": {
    "ExecuteTime": {
     "end_time": "2022-02-22T21:27:14.237113Z",
     "start_time": "2022-02-22T21:27:06.772590Z"
    },
    "scrolled": false
   },
   "outputs": [],
   "source": [
    "# Load the dataset:\n",
    "dataset = juliet.load(priors=priors, t_lc = times, y_lc = fluxes,\n",
    "                      yerr_lc = fluxes_error, t_rv = times_rv, y_rv = data_rv,\n",
    "                      yerr_rv = errors_rv, out_folder = 'WASP-17_jointfit')\n",
    "\n",
    "# And now let's fit it!\n",
    "#results = dataset.fit(n_live_points = 500)"
   ]
  },
  {
   "cell_type": "code",
   "execution_count": 9,
   "id": "3d70cc7d",
   "metadata": {
    "ExecuteTime": {
     "end_time": "2022-02-22T02:45:24.161076Z",
     "start_time": "2022-02-22T02:45:24.158095Z"
    }
   },
   "outputs": [
    {
     "data": {
      "text/plain": [
       "<juliet.fit.fit at 0x7f8fc0b54940>"
      ]
     },
     "execution_count": 9,
     "metadata": {},
     "output_type": "execute_result"
    }
   ],
   "source": [
    "results\n",
    "with open(\"WASP-17_jointfit/results.pkl\", \"wb\") as f:\n",
    "    pickle.dump(results, f)"
   ]
  },
  {
   "cell_type": "code",
   "execution_count": 3,
   "id": "451b9e7d",
   "metadata": {
    "ExecuteTime": {
     "end_time": "2022-02-22T21:25:55.088437Z",
     "start_time": "2022-02-22T21:25:54.882345Z"
    }
   },
   "outputs": [],
   "source": [
    "# Load from file if picking up here\n",
    "with open(\"WASP-17_jointfit/results.pkl\", \"rb\") as f:\n",
    "    results = pickle.load(f)"
   ]
  },
  {
   "cell_type": "code",
   "execution_count": 15,
   "id": "c25dbc6f",
   "metadata": {
    "ExecuteTime": {
     "end_time": "2022-02-22T21:30:38.966125Z",
     "start_time": "2022-02-22T21:30:38.959990Z"
    }
   },
   "outputs": [
    {
     "data": {
      "text/plain": [
       "<Figure size 1008x288 with 0 Axes>"
      ]
     },
     "metadata": {},
     "output_type": "display_data"
    }
   ],
   "source": [
    "%matplotlib inline\n",
    "fig = plt.figure(figsize=(14,4))\n",
    "gs = gridspec.GridSpec(1, 2, width_ratios=[2,2])"
   ]
  },
  {
   "cell_type": "code",
   "execution_count": 16,
   "id": "d755611f",
   "metadata": {
    "ExecuteTime": {
     "end_time": "2022-02-22T21:30:45.929247Z",
     "start_time": "2022-02-22T21:30:40.128889Z"
    }
   },
   "outputs": [
    {
     "data": {
      "text/plain": [
       "(0.96, 1.01)"
      ]
     },
     "execution_count": 16,
     "metadata": {},
     "output_type": "execute_result"
    },
    {
     "data": {
      "image/png": "[encoded data removed]",
      "text/plain": [
       "<Figure size 432x288 with 1 Axes>"
      ]
     },
     "metadata": {
      "needs_background": "light"
     },
     "output_type": "display_data"
    }
   ],
   "source": [
    "# Plot phased transit data and model first. Let's extract the transit\n",
    "# model --- lightcurve is well sampled, so use the same input times to plot the model:\n",
    "transit_model = results.lc.evaluate('TESS')\n",
    "\n",
    "# Extract period and time-of-transit center for the planet:\n",
    "P, t0 = np.median(results.posteriors['posterior_samples']['P_p1']),\\\n",
    "        np.median(results.posteriors['posterior_samples']['t0_p1'])\n",
    "\n",
    "# Define plot, get phases, plot data and best-fit model:\n",
    "ax1 = plt.subplot(gs[0])\n",
    "\n",
    "phases = juliet.get_phases(dataset.times_lc['TESS'], P, t0)\n",
    "idx = np.argsort(phases)\n",
    "ax1.errorbar(phases, dataset.data_lc['TESS'], yerr= dataset.errors_lc['TESS'], fmt = '.', alpha=0.1)\n",
    "ax1.plot(phases[idx],transit_model[idx], color='black',zorder=10)\n",
    "\n",
    "# Plot binned data as well, binning 40 datapoints in phase-space:\n",
    "p_bin, y_bin, yerr_bin = juliet.bin_data(phases[idx], dataset.data_lc['TESS'][idx], 40)\n",
    "ax1.errorbar(p_bin, y_bin, yerr = yerr_bin, fmt = 'o', mfc = 'white', mec = 'black', ecolor = 'black')\n",
    "\n",
    "# Labels, limits:\n",
    "ax1.set_xlabel('Phases')\n",
    "ax1.set_ylabel('Relative flux')\n",
    "ax1.set_xlim([-0.05,0.05])\n",
    "ax1.set_ylim([0.96,1.01])"
   ]
  },
  {
   "cell_type": "code",
   "execution_count": 17,
   "id": "a483fc24",
   "metadata": {
    "ExecuteTime": {
     "end_time": "2022-02-22T21:31:12.615742Z",
     "start_time": "2022-02-22T21:30:45.931301Z"
    }
   },
   "outputs": [
    {
     "data": {
      "text/plain": [
       "Text(0, 0.5, 'Radial-velocity (m/s)')"
      ]
     },
     "execution_count": 17,
     "metadata": {},
     "output_type": "execute_result"
    },
    {
     "data": {
      "image/png": "[encoded data removed]",
      "text/plain": [
       "<Figure size 432x288 with 1 Axes>"
      ]
     },
     "metadata": {
      "needs_background": "light"
     },
     "output_type": "display_data"
    }
   ],
   "source": [
    "# Define times on which we'll evaluate the model to plot:\n",
    "min_time, max_time = np.min(dataset.times_rv['MIKE'])-30,\\\n",
    "                 np.max(dataset.times_rv['MIKE'])+30\n",
    "model_rv_times = np.linspace(min_time,max_time,1000)\n",
    "\n",
    "# Evaluate RV model --- use all the posterior samples, also extract model components:\n",
    "rv_model, components = results.rv.evaluate('MIKE', t = model_rv_times, all_samples = True, \\\n",
    "                                           return_components = True)\n",
    "# Substract FEROS systemic RV from rv_model:\n",
    "rv_model -= components['mu']\n",
    "\n",
    "# Define second panel in the plot:\n",
    "ax2 = plt.subplot(gs[1])\n",
    "\n",
    "# Iterate through the instruments, evaluate a model at those times, remove the full model - planet component, so only the RV\n",
    "# from the planet under study remain:\n",
    "instruments = ['MIKE',]\n",
    "colors = ['cornflowerblue','orangered']\n",
    "for i in range(len(instruments)):\n",
    "    instrument = instruments[i]\n",
    "    # Evaluate jitter level --- will be added in quadrature to data errors:\n",
    "    jitter = np.median(results.posteriors['posterior_samples']['sigma_w_'+instrument])\n",
    "    # Get phases:\n",
    "    phases = juliet.get_phases(dataset.times_rv[instrument], P, t0)\n",
    "    # Plot data with the full model *minus* planet 1 substracted, so we see the Keplerian of planet\n",
    "    # 1 imprinted on the data. For this, evaluate model in the data-times first:\n",
    "    c_model, c_components = results.rv.evaluate(instrument, t = dataset.times_rv[instrument], \\\n",
    "                                                all_samples=True, return_components = True)\n",
    "    # Now plot RV data with (best model - planet component) substracted:\n",
    "    ax2.errorbar(phases, dataset.data_rv[instrument]- (c_model - c_components['p1']),\\\n",
    "                 yerr = np.sqrt(dataset.errors_rv[instrument]**2+jitter**2),fmt='o',\\\n",
    "                 mec=colors[i], ecolor=colors[i], mfc = 'white', label=None,\\\n",
    "                 alpha = 0.5, zorder=5)\n",
    "\n",
    "# Now plot the model for planet 1. First get phases of the model:\n",
    "phases = juliet.get_phases(model_rv_times, P, t0)\n",
    "# Plot phased model:\n",
    "idx = np.argsort(phases)\n",
    "plt.plot(phases[idx], components['p1'][idx], color='black', lw = 3, zorder=6)\n",
    "# Define limits, labels:\n",
    "ax2.set_xlim([-0.5,0.5])\n",
    "ax2.set_ylim([-200,200])\n",
    "ax2.set_xlabel('Phases')\n",
    "ax2.set_ylabel('Radial-velocity (m/s)')"
   ]
  },
  {
   "cell_type": "code",
   "execution_count": null,
   "id": "35a35278",
   "metadata": {},
   "outputs": [],
   "source": []
  },
  {
   "cell_type": "code",
   "execution_count": 5,
   "id": "e79ecb6d",
   "metadata": {
    "ExecuteTime": {
     "end_time": "2022-02-22T02:45:24.141876Z",
     "start_time": "2022-02-22T02:45:24.136476Z"
    }
   },
   "outputs": [
    {
     "data": {
      "text/plain": [
       "0.010936965981495177"
      ]
     },
     "execution_count": 5,
     "metadata": {},
     "output_type": "execute_result"
    }
   ],
   "source": [
    "# Scratch space\n",
    "\n",
    ".02 / (np.sqrt(1.672)*np.sqrt(2))"
   ]
  },
  {
   "cell_type": "code",
   "execution_count": 6,
   "id": "9d5247d3",
   "metadata": {
    "ExecuteTime": {
     "end_time": "2022-02-22T02:45:24.146850Z",
     "start_time": "2022-02-22T02:45:24.143355Z"
    }
   },
   "outputs": [],
   "source": [
    "log2pi = np.log(2.*np.pi)\n",
    "taus = np.array([211302.63980060548, 211668.73506167933, 212121.3595242822,\n",
    " 278341.5472256466, 277989.9022129493, 278293.25345918833])\n",
    "residuals = np.array([0.0433923105186822, 0.04594177998965998, 0.047107229608953194,\n",
    " 0.0471079448646905, 0.049205313105046944, 0.04462231196826716])\n",
    "variances = np.array([4.732548542430157e-06, 4.724363282601015e-06, 4.714282438329964e-06 ,\n",
    " 3.5927083468761403e-06, 3.5972529650878024e-06, 3.5933318094132306e-06])"
   ]
  },
  {
   "cell_type": "code",
   "execution_count": 7,
   "id": "6a562dd4",
   "metadata": {
    "ExecuteTime": {
     "end_time": "2022-02-22T02:45:24.151718Z",
     "start_time": "2022-02-22T02:45:24.148110Z"
    }
   },
   "outputs": [
    {
     "data": {
      "text/plain": [
       "-1548.4157968167467"
      ]
     },
     "execution_count": 7,
     "metadata": {},
     "output_type": "execute_result"
    }
   ],
   "source": [
    "-0.5*(len(residuals)*log2pi+np.sum(-np.log(taus)+taus*(residuals**2)))"
   ]
  },
  {
   "cell_type": "code",
   "execution_count": 11,
   "id": "3b3725d7",
   "metadata": {
    "ExecuteTime": {
     "end_time": "2022-02-22T02:48:42.350104Z",
     "start_time": "2022-02-22T02:48:41.918521Z"
    }
   },
   "outputs": [],
   "source": []
  }
 ],
 "metadata": {
  "kernelspec": {
   "display_name": "Python 3 (ipykernel)",
   "language": "python",
   "name": "python3"
  },
  "language_info": {
   "codemirror_mode": {
    "name": "ipython",
    "version": 3
   },
   "file_extension": ".py",
   "mimetype": "text/x-python",
   "name": "python",
   "nbconvert_exporter": "python",
   "pygments_lexer": "ipython3",
   "version": "3.9.7"
  }
 },
 "nbformat": 4,
 "nbformat_minor": 5
}
