{
 "cells": [
  {
   "cell_type": "markdown",
   "id": "09f0720b",
   "metadata": {},
   "source": [
    "### First Juliet fit of WASP-17\n",
    "\n",
    "Trying a joint fit with the first RV data I have in the DB (since it was already in BJD-TDB) and the two TESS light curves.\n",
    "\n",
    "Initially copying the code from https://juliet.readthedocs.io/en/latest/tutorials/jointfits.html and editing to fit my data. \n",
    "\n",
    "Parameter values from https://exo.mast.stsci.edu/exomast_planet.html?planet=WASP17b (TESS-DV):\n",
    "\n",
    "*Star*\n",
    "\n",
    "Rs [R☉] 1.2 +0.081/-0.08\n",
    "\n",
    "V mag 11.6\n",
    "\n",
    "Ms [M☉] 1.19 ±0.03\n",
    "\n",
    "K mag 10.2\n",
    "\n",
    "[Fe/H] -0.25 ±0.09\n",
    "\n",
    "RA [h:m:s] 15:59:50.947\n",
    "\n",
    "log10(g) [cgs] 4.2 ±0.2\n",
    "\n",
    "Dec [h:m:s] -28:03:42.30\n",
    "\n",
    "Teff [K] 6550 ±100\n",
    "\n",
    "Distance [pc] 400 ±60\n",
    "\n",
    "Star Name WASP-17\n",
    "\n",
    "TESS Mag 10.22\n",
    "\n",
    "*Planetary System*\n",
    "\n",
    "Rp [Rj] 1.932 +0.05/-0.1\n",
    "\n",
    "Teq [K] 1546.58\n",
    "\n",
    "Period [day] 3.735433 +7.5e-6/-7.7e-6\n",
    "\n",
    "Transit Epoch [MJD] 54558.68096 +2.5e-4/-2.1e-4\n",
    "\n",
    "Transit Duration [hour] 4.4232 +0.0312/-0.024\n",
    "\n",
    "Depth [%] 1.672 +0.02/-0.016\n",
    "\n",
    "Impact Parameter 0.4 ±0.04\t\n",
    "\n",
    "a/Rs 8.968 ±0.62"
   ]
  },
  {
   "cell_type": "code",
   "execution_count": null,
   "id": "bf773472",
   "metadata": {},
   "outputs": [],
   "source": [
    "import juliet\n",
    "import sqlite3 as sql\n",
    "import astropy.units as u\n",
    "import numpy as np\n",
    "import matplotlib.pyplot as plt\n",
    "import matplotlib.gridspec as gridspec\n",
    "import pickle"
   ]
  },
  {
   "cell_type": "code",
   "execution_count": null,
   "id": "c5009fa2",
   "metadata": {},
   "outputs": [],
   "source": []
  },
  {
   "cell_type": "code",
   "execution_count": null,
   "id": "8924f8c0",
   "metadata": {},
   "outputs": [],
   "source": [
    "# Define the master prior dictionary. First define the TRANSIT priors:\n",
    "priors = {}\n",
    "\n",
    "# Name of the parameters to be fit:\n",
    "params = ['P_p1', \n",
    "          't0_p1', \n",
    "          'a_p1', \n",
    "          'b_p1',\n",
    "          'p_p1',\n",
    "          'q1_TESS', \n",
    "          'q2_TESS', \n",
    "          'ecc_p1', \n",
    "          'omega_p1',\n",
    "          'rho', \n",
    "          'mdilution_TESS', \n",
    "          'mflux_TESS', \n",
    "          'sigma_w_TESS']\n",
    "\n",
    "# Distribution for each of the parameters:\n",
    "dists = ['normal','normal','normal','normal','uniform','uniform',\n",
    "         'uniform','fixed','fixed','loguniform', 'fixed', 'normal', \n",
    "         'loguniform']\n",
    "\n",
    "# Hyperparameters of the distributions (mean and standard-deviation for normal\n",
    "# distributions, lower and upper limits for uniform and loguniform distributions, and\n",
    "# fixed values for fixed \"distributions\", which assume the parameter is fixed). Note prior\n",
    "# on t0 has an added 2400000.5 to convert from MJD to JD:\n",
    "hyperps = [[3.735433, 0.1], \n",
    "           [2400000.5 + 54558.68096, 0.1], \n",
    "           [8.968, 0.62], \n",
    "           [0.4, 0.04], \n",
    "           [0, 0.3],\n",
    "           [0., 1.], \n",
    "           [0., 1.], \n",
    "           0.0, \n",
    "           90., \n",
    "           [100., 10000.], \n",
    "           1.0, \n",
    "           [0.,0.1], \n",
    "           [0.1, 1000.]]\n",
    "\n",
    "# Populate the priors dictionary:\n",
    "for param, dist, hyperp in zip(params, dists, hyperps):\n",
    "    priors[param] = {}\n",
    "    priors[param]['distribution'], priors[param]['hyperparameters'] = dist, hyperp\n",
    "\n",
    "# Now define the RV priors:\n",
    "params = ['mu_MIKE', \n",
    "          'K_p1', \n",
    "          'sigma_w_MIKE']\n",
    "\n",
    "# Distributions:\n",
    "dists = ['uniform', 'uniform', 'loguniform']\n",
    "\n",
    "# Hyperparameters\n",
    "hyperps = [[-100,100], [-100,100], [1e-3, 100]]\n",
    "\n",
    "# Populate the priors dictionary:\n",
    "for param, dist, hyperp in zip(params, dists, hyperps):\n",
    "    priors[param] = {}\n",
    "    priors[param]['distribution'], priors[param]['hyperparameters'] = dist, hyperp"
   ]
  },
  {
   "cell_type": "code",
   "execution_count": null,
   "id": "18c0170d",
   "metadata": {},
   "outputs": [],
   "source": [
    "## Sometimes after running this cell once the fit errors, but if I run this again \n",
    "## it succeeds. Not sure why...\n",
    "\n",
    "# Light curve data\n",
    "times, fluxes, fluxes_error = {},{},{}\n",
    "# RV data\n",
    "times_rv, data_rv, errors_rv = {}, {}, {}\n",
    "\n",
    "# Get data from DB and populate dictionaries\n",
    "conn = sql.connect(\"shel_database.sqlite\")\n",
    "cur = conn.cursor()\n",
    "\n",
    "# Tess light curves\n",
    "res = cur.execute(\"select * from light_curves where target_id = 42\").fetchall()\n",
    "res = np.array(res)\n",
    "t = res[:, 3]\n",
    "f = res[:, 4]\n",
    "f_err = res[:, 5]\n",
    "\n",
    "\n",
    "times['TESS'], fluxes['TESS'], fluxes_error['TESS'] = t, f, f_err\n",
    "\n",
    "# MIKE RV data\n",
    "res = cur.execute(\"select * from radial_velocities where target_id = 42 and instrument = 5\").fetchall()\n",
    "res = np.array(res)\n",
    "\n",
    "t = res[:,3]\n",
    "rv = res[:,4]\n",
    "rv_err = res[:,5]\n",
    "\n",
    "times_rv['MIKE'], data_rv['MIKE'], errors_rv['MIKE'] = t, rv, rv_err\n",
    "\n",
    "print(fluxes)\n",
    "print(data_rv)"
   ]
  },
  {
   "cell_type": "code",
   "execution_count": null,
   "id": "1dd84ec5",
   "metadata": {},
   "outputs": [],
   "source": [
    "np.where(np.isnan(fluxes[\"TESS\"]))"
   ]
  },
  {
   "cell_type": "code",
   "execution_count": null,
   "id": "cb041467",
   "metadata": {
    "scrolled": false
   },
   "outputs": [],
   "source": [
    "# Load the dataset:\n",
    "dataset = juliet.load(priors=priors, t_lc = times, y_lc = fluxes,\n",
    "                      yerr_lc = fluxes_error, t_rv = times_rv, y_rv = data_rv,\n",
    "                      yerr_rv = errors_rv, out_folder = 'WASP-17_jointfit')\n",
    "\n",
    "# And now let's fit it!\n",
    "results = dataset.fit(n_live_points = 500)"
   ]
  },
  {
   "cell_type": "code",
   "execution_count": null,
   "id": "3d70cc7d",
   "metadata": {},
   "outputs": [],
   "source": [
    "results\n",
    "with open(\"WASP-17_jointfit/results.pkl\", \"wb\") as f:\n",
    "    pickle.dump(results, f)"
   ]
  },
  {
   "cell_type": "code",
   "execution_count": null,
   "id": "451b9e7d",
   "metadata": {},
   "outputs": [],
   "source": [
    "# Load from file if picking up here\n",
    "with open(\"WASP-17_jointfit/results.pkl\", \"rb\") as f:\n",
    "    results = pickle.load(f)"
   ]
  },
  {
   "cell_type": "code",
   "execution_count": null,
   "id": "c25dbc6f",
   "metadata": {},
   "outputs": [],
   "source": [
    "%matplotlib inline\n",
    "fig = plt.figure(figsize=(14,4))\n",
    "gs = gridspec.GridSpec(1, 2, width_ratios=[2,2])"
   ]
  },
  {
   "cell_type": "code",
   "execution_count": null,
   "id": "d755611f",
   "metadata": {},
   "outputs": [],
   "source": [
    "# Plot phased transit data and model first. Let's extract the transit\n",
    "# model --- lightcurve is well sampled, so use the same input times to plot the model:\n",
    "transit_model = results.lc.evaluate('TESS')\n",
    "\n",
    "# Extract period and time-of-transit center for the planet:\n",
    "P, t0 = np.median(results.posteriors['posterior_samples']['P_p1']),\\\n",
    "        np.median(results.posteriors['posterior_samples']['t0_p1'])\n",
    "\n",
    "# Define plot, get phases, plot data and best-fit model:\n",
    "ax1 = plt.subplot(gs[0])\n",
    "\n",
    "phases = juliet.get_phases(dataset.times_lc['TESS'], P, t0)\n",
    "idx = np.argsort(phases)\n",
    "ax1.errorbar(phases, dataset.data_lc['TESS'], yerr= dataset.errors_lc['TESS'], fmt = '.', alpha=0.1)\n",
    "ax1.plot(phases[idx],transit_model[idx], color='black',zorder=10)\n",
    "\n",
    "# Plot binned data as well, binning 40 datapoints in phase-space:\n",
    "p_bin, y_bin, yerr_bin = juliet.bin_data(phases[idx], dataset.data_lc['TESS'][idx], 40)\n",
    "ax1.errorbar(p_bin, y_bin, yerr = yerr_bin, fmt = 'o', mfc = 'white', mec = 'black', ecolor = 'black')\n",
    "\n",
    "# Labels, limits:\n",
    "ax1.set_xlabel('Phases')\n",
    "ax1.set_ylabel('Relative flux')\n",
    "ax1.set_xlim([-0.05,0.05])\n",
    "ax1.set_ylim([0.97,1.01])"
   ]
  },
  {
   "cell_type": "code",
   "execution_count": null,
   "id": "a483fc24",
   "metadata": {},
   "outputs": [],
   "source": [
    "# Define times on which we'll evaluate the model to plot:\n",
    "min_time, max_time = np.min(dataset.times_rv['MIKE'])-30,\\\n",
    "                 np.max(dataset.times_rv['MIKE'])+30\n",
    "model_rv_times = np.linspace(min_time,max_time,1000)\n",
    "\n",
    "# Evaluate RV model --- use all the posterior samples, also extract model components:\n",
    "rv_model, components = results.rv.evaluate('MIKE', t = model_rv_times, all_samples = True, \\\n",
    "                                           return_components = True)\n",
    "# Substract FEROS systemic RV from rv_model:\n",
    "rv_model -= components['mu']\n",
    "\n",
    "# Define second panel in the plot:\n",
    "ax2 = plt.subplot(gs[1])\n",
    "\n",
    "# Iterate through the instruments, evaluate a model at those times, remove the full model - planet component, so only the RV\n",
    "# from the planet under study remain:\n",
    "instruments = ['MIKE',]\n",
    "colors = ['cornflowerblue','orangered']\n",
    "for i in range(len(instruments)):\n",
    "    instrument = instruments[i]\n",
    "    # Evaluate jitter level --- will be added in quadrature to data errors:\n",
    "    jitter = np.median(results.posteriors['posterior_samples']['sigma_w_'+instrument])\n",
    "    # Get phases:\n",
    "    phases = juliet.get_phases(dataset.times_rv[instrument], P, t0)\n",
    "    # Plot data with the full model *minus* planet 1 substracted, so we see the Keplerian of planet\n",
    "    # 1 imprinted on the data. For this, evaluate model in the data-times first:\n",
    "    c_model, c_components = results.rv.evaluate(instrument, t = dataset.times_rv[instrument], \\\n",
    "                                                all_samples=True, return_components = True)\n",
    "    # Now plot RV data with (best model - planet component) substracted:\n",
    "    ax2.errorbar(phases, dataset.data_rv[instrument]- (c_model - c_components['p1']),\\\n",
    "                 yerr = np.sqrt(dataset.errors_rv[instrument]**2+jitter**2),fmt='o',\\\n",
    "                 mec=colors[i], ecolor=colors[i], mfc = 'white', label=None,\\\n",
    "                 alpha = 0.5, zorder=5)\n",
    "\n",
    "# Now plot the model for planet 1. First get phases of the model:\n",
    "phases = juliet.get_phases(model_rv_times, P, t0)\n",
    "# Plot phased model:\n",
    "idx = np.argsort(phases)\n",
    "plt.plot(phases[idx], components['p1'][idx], color='black', lw = 3, zorder=6)\n",
    "# Define limits, labels:\n",
    "ax2.set_xlim([-0.5,0.5])\n",
    "ax2.set_ylim([-200,200])\n",
    "ax2.set_xlabel('Phases')\n",
    "ax2.set_ylabel('Radial-velocity (m/s)')"
   ]
  },
  {
   "cell_type": "code",
   "execution_count": null,
   "id": "35a35278",
   "metadata": {},
   "outputs": [],
   "source": []
  },
  {
   "cell_type": "code",
   "execution_count": null,
   "id": "e79ecb6d",
   "metadata": {},
   "outputs": [],
   "source": [
    "# Scratch space\n",
    "\n",
    ".02 / (np.sqrt(1.672)*np.sqrt(2))"
   ]
  },
  {
   "cell_type": "code",
   "execution_count": null,
   "id": "9d5247d3",
   "metadata": {},
   "outputs": [],
   "source": [
    "log2pi = np.log(2.*np.pi)\n",
    "taus = np.array([211302.63980060548, 211668.73506167933, 212121.3595242822,\n",
    " 278341.5472256466, 277989.9022129493, 278293.25345918833])\n",
    "residuals = np.array([0.0433923105186822, 0.04594177998965998, 0.047107229608953194,\n",
    " 0.0471079448646905, 0.049205313105046944, 0.04462231196826716])\n",
    "variances = np.array([4.732548542430157e-06, 4.724363282601015e-06, 4.714282438329964e-06 ,\n",
    " 3.5927083468761403e-06, 3.5972529650878024e-06, 3.5933318094132306e-06])"
   ]
  },
  {
   "cell_type": "code",
   "execution_count": null,
   "id": "6a562dd4",
   "metadata": {},
   "outputs": [],
   "source": [
    "-0.5*(len(residuals)*log2pi+np.sum(-np.log(taus)+taus*(residuals**2)))"
   ]
  },
  {
   "cell_type": "code",
   "execution_count": null,
   "id": "3b3725d7",
   "metadata": {},
   "outputs": [],
   "source": [
    "np.sqrt(.01672)"
   ]
  },
  {
   "cell_type": "code",
   "execution_count": null,
   "id": "00486552",
   "metadata": {},
   "outputs": [],
   "source": [
    "phases = juliet.utils.get_phases(times[\"TESS\"], 3.735433, 2400000.5 + 54558.68096)"
   ]
  },
  {
   "cell_type": "code",
   "execution_count": null,
   "id": "0cfa867e",
   "metadata": {},
   "outputs": [],
   "source": [
    "phases"
   ]
  },
  {
   "cell_type": "code",
   "execution_count": null,
   "id": "b1dca8d3",
   "metadata": {},
   "outputs": [],
   "source": [
    "plt.scatter(phases*3.735433, fluxes[\"TESS\"])\n",
    "plt.xlim(-0.2, 0.2)"
   ]
  },
  {
   "cell_type": "code",
   "execution_count": null,
   "id": "141cd1b0",
   "metadata": {},
   "outputs": [],
   "source": [
    "results.posteriors"
   ]
  },
  {
   "cell_type": "code",
   "execution_count": null,
   "id": "3415451e",
   "metadata": {},
   "outputs": [],
   "source": [
    "2400000.5 + 54558.68096"
   ]
  },
  {
   "cell_type": "code",
   "execution_count": null,
   "id": "88f74d70",
   "metadata": {},
   "outputs": [],
   "source": [
    "0.1224706676**2"
   ]
  },
  {
   "cell_type": "code",
   "execution_count": null,
   "id": "12e30044",
   "metadata": {},
   "outputs": [],
   "source": []
  }
 ],
 "metadata": {
  "kernelspec": {
   "display_name": "Python 3 (ipykernel)",
   "language": "python",
   "name": "python3"
  },
  "language_info": {
   "codemirror_mode": {
    "name": "ipython",
    "version": 3
   },
   "file_extension": ".py",
   "mimetype": "text/x-python",
   "name": "python",
   "nbconvert_exporter": "python",
   "pygments_lexer": "ipython3",
   "version": "3.9.7"
  }
 },
 "nbformat": 4,
 "nbformat_minor": 5
}
