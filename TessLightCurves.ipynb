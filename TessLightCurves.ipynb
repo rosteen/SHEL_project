{
 "cells": [
  {
   "cell_type": "markdown",
   "id": "f9c94344",
   "metadata": {},
   "source": [
    "Based on the TESS beginner_how_to_use_lc notebook"
   ]
  },
  {
   "cell_type": "code",
   "execution_count": null,
   "id": "dbac11a7",
   "metadata": {},
   "outputs": [],
   "source": [
    "%matplotlib inline\n",
    "from astropy.io import fits\n",
    "from astropy import coordinates as c\n",
    "import matplotlib.pyplot as plt\n",
    "import numpy as np\n",
    "import sqlite3 as sql"
   ]
  },
  {
   "cell_type": "code",
   "execution_count": null,
   "id": "f95e3ef1",
   "metadata": {},
   "outputs": [],
   "source": [
    "data_dir = 'data/light_curves/TESS-WASP17/'\n",
    "\n",
    "obs1_base = \"tess2021118034608-s0038-0000000066818296-0209-s\"\n",
    "obs2_base = \"tess2019140104343-s0012-0000000066818296-0144-s\"\n",
    "\n",
    "obs1_lc = f\"{data_dir}/{obs1_base}/{obs1_base}_lc.fits\"\n",
    "obs2_lc = f\"{data_dir}/{obs2_base}/{obs2_base}_lc.fits\"\n",
    "obs_files = [obs1_lc, obs2_lc]"
   ]
  },
  {
   "cell_type": "markdown",
   "id": "974a6aaa",
   "metadata": {},
   "source": [
    "### Data exploration"
   ]
  },
  {
   "cell_type": "code",
   "execution_count": null,
   "id": "c7299ca7",
   "metadata": {},
   "outputs": [],
   "source": [
    "with fits.open(obs2_lc, mode=\"readonly\") as hdulist:\n",
    "    tess_bjds = hdulist[1].data['TIME']\n",
    "    sap_fluxes = hdulist[1].data['SAP_FLUX']\n",
    "    pdcsap_fluxes = hdulist[1].data['PDCSAP_FLUX']\n",
    "    pdcsap_err = hdulist[1].data['PDCSAP_FLUX_ERR']\n",
    "    quality = hdulist[1].data['QUALITY']"
   ]
  },
  {
   "cell_type": "code",
   "execution_count": null,
   "id": "451f4c4e",
   "metadata": {},
   "outputs": [],
   "source": [
    "# Define the epoch of primary transit in TBJD.  Our timestamps are also already in TBJD.\n",
    "t0 = 1327.520678\n",
    "\n",
    "# Start figure and axis.\n",
    "fig, ax = plt.subplots()\n",
    "\n",
    "# Plot the timeseries in black circles.\n",
    "ax.plot(tess_bjds, pdcsap_fluxes, 'ko')\n",
    "\n",
    "# Center the x-axis on where we expect a transit to be (time = T0), and set\n",
    "# the x-axis range within +/- 1 day of T0.\n",
    "ax.set_xlim(t0 - 1.0, t0 + 1.0)\n",
    "\n",
    "# Overplot a red vertical line that should be where the transit occurs.\n",
    "ax.axvline(x=t0, color=\"red\")\n",
    "\n",
    "# Let's label the axes and define a title for the figure.\n",
    "fig.suptitle(\"WASP-126 b Light Curve - Sector 1\")\n",
    "ax.set_ylabel(\"PDCSAP Flux (e-/s)\")\n",
    "ax.set_xlabel(\"Time (TBJD)\")\n",
    "\n",
    "# Adjust the left margin so the y-axis label shows up.\n",
    "plt.subplots_adjust(left=0.15)\n",
    "plt.show()"
   ]
  },
  {
   "cell_type": "code",
   "execution_count": null,
   "id": "7b38ec57",
   "metadata": {},
   "outputs": [],
   "source": [
    "bad_bits = np.array([1,2,3,4,5,6,8,10,12])\n",
    "value = 0\n",
    "for v in bad_bits:\n",
    "    value = value + 2**(v-1)\n",
    "    \n",
    "bad_data = np.bitwise_and(quality, value) >= 1 \n",
    "bad_data[np.isnan(pdcsap_fluxes)] = True"
   ]
  },
  {
   "cell_type": "code",
   "execution_count": null,
   "id": "44a32314",
   "metadata": {},
   "outputs": [],
   "source": [
    "#Same plot as before with flagged data removed.\n",
    "fig = plt.figure(figsize = (14,5))\n",
    "fig.add_subplot(211)\n",
    "plt.plot(tess_bjds[~bad_data], sap_fluxes[~bad_data], '.', label = 'SAP')\n",
    "plt.legend(loc = 'lower left')\n",
    "\n",
    "fig.add_subplot(212)\n",
    "plt.plot(tess_bjds[~bad_data], pdcsap_fluxes[~bad_data], '.', label = 'PDC')\n",
    "plt.legend(loc = 'lower left')\n",
    "plt.xlabel('TIME (BTJD)')"
   ]
  },
  {
   "cell_type": "markdown",
   "id": "78078708",
   "metadata": {},
   "source": [
    "Simple normalization. Note that there are apparently still NaNs in the pdcsap fluxes after removing quality-flagged pixels, so `np.nanmean` is required"
   ]
  },
  {
   "cell_type": "code",
   "execution_count": null,
   "id": "7f443453",
   "metadata": {},
   "outputs": [],
   "source": [
    "#Same plot as before with flagged data removed.\n",
    "fig = plt.figure(figsize = (14,5))\n",
    "fig.add_subplot(211)\n",
    "plt.plot(tess_bjds[~bad_data], \n",
    "         sap_fluxes[~bad_data]/np.nanmean(sap_fluxes[~bad_data]), \n",
    "         '.', label = 'SAP')\n",
    "plt.legend(loc = 'lower left')\n",
    "\n",
    "fig.add_subplot(212)\n",
    "# 2021 data\n",
    "#non_transit = np.where(pdcsap_fluxes[~bad_data] > 6200)\n",
    "# 2019 data\n",
    "non_transit = np.where(pdcsap_fluxes[~bad_data] > 6325)\n",
    "plt.plot(tess_bjds[~bad_data], \n",
    "         pdcsap_fluxes[~bad_data]/np.nanmean(pdcsap_fluxes[~bad_data][non_transit]), \n",
    "         '.', label = 'PDC')\n",
    "plt.legend(loc = 'lower left')\n",
    "plt.xlabel('TIME (BTJD)')"
   ]
  },
  {
   "cell_type": "markdown",
   "id": "58bbb516",
   "metadata": {
    "ExecuteTime": {
     "end_time": "2022-02-14T22:19:35.741629Z",
     "start_time": "2022-02-14T22:19:35.737359Z"
    }
   },
   "source": [
    "Let's try binning and see what those look like...\n",
    "\n",
    "Actually, this will take more time to figure out how to do intelligently than I want to spend right now. Juliet certainly doesn't need the data to be binned, and the transits are pretty obvious in the plot above anyway!"
   ]
  },
  {
   "cell_type": "code",
   "execution_count": null,
   "id": "e4f2c29d",
   "metadata": {},
   "outputs": [],
   "source": [
    "print(tess_bjds.shape)\n",
    "print(tess_bjds[~bad_data].shape)"
   ]
  },
  {
   "cell_type": "code",
   "execution_count": null,
   "id": "3f20b5db",
   "metadata": {},
   "outputs": [],
   "source": [
    "good_times = tess_bjds[~bad_data] \n",
    "normalized_flux = (pdcsap_fluxes[~bad_data] /\n",
    "                   np.nanmean(pdcsap_fluxes[~bad_data][non_transit]))\n",
    "normalized_errs = (pdcsap_err[~bad_data] / pdcsap_fluxes[~bad_data])*normalized_flux"
   ]
  },
  {
   "cell_type": "code",
   "execution_count": null,
   "id": "fdb4752b",
   "metadata": {},
   "outputs": [],
   "source": [
    "print(normalized_flux[1000:1010])"
   ]
  },
  {
   "cell_type": "code",
   "execution_count": null,
   "id": "53c6de8d",
   "metadata": {},
   "outputs": [],
   "source": [
    "print(normalized_errs[1000:1010])"
   ]
  },
  {
   "cell_type": "code",
   "execution_count": null,
   "id": "3268b7d5",
   "metadata": {},
   "outputs": [],
   "source": [
    "print(np.nanmean(pdcsap_fluxes[~bad_data]))\n",
    "print(np.nanstd(pdcsap_fluxes[~bad_data]))\n",
    "print(np.nanmean(pdcsap_fluxes[~bad_data]) - 2*np.nanstd(pdcsap_fluxes[~bad_data]))"
   ]
  },
  {
   "cell_type": "markdown",
   "id": "448b003d",
   "metadata": {},
   "source": [
    "### Insert the TESS data into the SHEL database"
   ]
  },
  {
   "cell_type": "code",
   "execution_count": null,
   "id": "f21f6214",
   "metadata": {},
   "outputs": [],
   "source": [
    "# initialize database connection\n",
    "conn = sql.connect(\"shel_database.sqlite\")\n",
    "cur = conn.cursor()"
   ]
  },
  {
   "cell_type": "code",
   "execution_count": null,
   "id": "2b49f3a7",
   "metadata": {},
   "outputs": [],
   "source": [
    "# For reprocessing\n",
    "# cur.execute(\"delete from light_curves where target_id=1\")"
   ]
  },
  {
   "cell_type": "code",
   "execution_count": null,
   "id": "ce5b2798",
   "metadata": {},
   "outputs": [],
   "source": [
    "# Insert target/instrument information into the database\n",
    "sky = c.SkyCoord(ra=\"15h 59m 50.939s\", dec=\"-28deg 03m 42.48s\")\n",
    "\n",
    "stmt = f\"INSERT INTO targets (name, ra, dec) VALUES ('WASP-17', {sky.ra.degree}, {sky.dec.degree})\"\n",
    "cur.execute(stmt)\n",
    "\n",
    "stmt = f\"INSERT INTO instruments (name) VALUES ('TESS')\"\n",
    "cur.execute(stmt)"
   ]
  },
  {
   "cell_type": "code",
   "execution_count": null,
   "id": "5d374c8c",
   "metadata": {},
   "outputs": [],
   "source": [
    "cur.execute(\"SELECT * from instruments\")\n",
    "print(cur.fetchall())\n",
    "\n",
    "cur.execute(\"SELECT * from targets\")\n",
    "print(cur.fetchall())"
   ]
  },
  {
   "cell_type": "code",
   "execution_count": null,
   "id": "5fc954d6",
   "metadata": {},
   "outputs": [],
   "source": [
    "# Calculate normalized fluxes and write to database for both files\n",
    "\n",
    "for fname in obs_files:\n",
    "    with fits.open(fname, mode=\"readonly\") as hdulist:\n",
    "        tess_bjds = hdulist[1].data['TIME']\n",
    "        sap_fluxes = hdulist[1].data['SAP_FLUX']\n",
    "        pdcsap_fluxes = hdulist[1].data['PDCSAP_FLUX']\n",
    "        pdcsap_err = hdulist[1].data['PDCSAP_FLUX_ERR']\n",
    "        quality = hdulist[1].data['QUALITY']\n",
    "    \n",
    "        # Reject bad quality flags\n",
    "        bad_bits = np.array([1,2,3,4,5,6,8,10,12])\n",
    "        value = 0\n",
    "        for v in bad_bits:\n",
    "            value = value + 2**(v-1)\n",
    "        bad_data = np.bitwise_and(quality, value) >= 1\n",
    "        bad_data[np.isnan(pdcsap_fluxes)] = True\n",
    "    \n",
    "        # Reject anything below this to get non-transit mean\n",
    "        min_threshold = (np.nanmean(pdcsap_fluxes[~bad_data]) - \n",
    "                         2*np.nanstd(pdcsap_fluxes[~bad_data]))\n",
    "        non_transit = np.where(pdcsap_fluxes[~bad_data] > min_threshold)\n",
    "    \n",
    "        # Convert the times to unsubtracted BJD\n",
    "        good_times = tess_bjds[~bad_data] + 2457000\n",
    "        normalized_flux = (pdcsap_fluxes[~bad_data] /\n",
    "                           np.nanmean(pdcsap_fluxes[~bad_data][non_transit]))\n",
    "        normalized_errs = normalized_flux*(pdcsap_err[~bad_data] / \n",
    "                                           pdcsap_fluxes[~bad_data])\n",
    "        for i in range(len(good_times)):\n",
    "            stmt = (\"INSERT INTO light_curves (target_id, instrument, bjd, flux, flux_err)\"\n",
    "                    f\" values (1, 1, {good_times[i]}, {normalized_flux[i]}, {normalized_errs[i]})\")\n",
    "            cur.execute(stmt)"
   ]
  },
  {
   "cell_type": "code",
   "execution_count": null,
   "id": "d0e0ac82",
   "metadata": {},
   "outputs": [],
   "source": [
    "cur.execute(\"select count(*) from light_curves\").fetchall()"
   ]
  },
  {
   "cell_type": "code",
   "execution_count": null,
   "id": "e17a2051",
   "metadata": {},
   "outputs": [],
   "source": [
    "# Commit our database changes\n",
    "conn.commit()\n",
    "cur.close()\n",
    "conn.close()"
   ]
  },
  {
   "cell_type": "markdown",
   "id": "7f89709d",
   "metadata": {},
   "source": [
    "### Utility function version"
   ]
  },
  {
   "cell_type": "code",
   "execution_count": null,
   "id": "27370233",
   "metadata": {},
   "outputs": [],
   "source": [
    "from utils import ingest_tess_data"
   ]
  },
  {
   "cell_type": "code",
   "execution_count": null,
   "id": "e6c838cf",
   "metadata": {},
   "outputs": [],
   "source": [
    "# Run with debug=True first to check that values in insert statements make sense\n",
    "\n",
    "datadir = 'data/light_curves/TESS-HAT-P-11/MAST_2022-03-23T1730/TESS/'\n",
    "\n",
    "ingest_tess_data(datadir, \"HAT-P-11\", debug=True)"
   ]
  },
  {
   "cell_type": "code",
   "execution_count": null,
   "id": "3ff51edd",
   "metadata": {},
   "outputs": [],
   "source": []
  }
 ],
 "metadata": {
  "kernelspec": {
   "display_name": "Python 3 (ipykernel)",
   "language": "python",
   "name": "python3"
  },
  "language_info": {
   "codemirror_mode": {
    "name": "ipython",
    "version": 3
   },
   "file_extension": ".py",
   "mimetype": "text/x-python",
   "name": "python",
   "nbconvert_exporter": "python",
   "pygments_lexer": "ipython3",
   "version": "3.9.7"
  }
 },
 "nbformat": 4,
 "nbformat_minor": 5
}
