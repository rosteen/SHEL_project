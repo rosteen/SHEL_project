{
 "cells": [
  {
   "cell_type": "markdown",
   "id": "8ce6cd42",
   "metadata": {},
   "source": [
    "## SHEL fitting examples\n",
    "\n",
    "This notebook shows how to use the utilities in the SHEL_project repository to fit transiting exoplanet parameters. Note that the data is stored in the `shel_database.sqlite` repository - I also show a couple examples of how to load priors and posteriors into the database, as well as a couple example queries."
   ]
  },
  {
   "cell_type": "code",
   "execution_count": null,
   "id": "8e4065dd",
   "metadata": {},
   "outputs": [],
   "source": [
    "import sqlite3 as sql\n",
    "from fitter import SHEL_Fitter\n",
    "from utils import load_prior, load_results, detect_outlier_results"
   ]
  },
  {
   "cell_type": "markdown",
   "id": "1eae9caf",
   "metadata": {},
   "source": [
    "#### Connect to database\n",
    "\n",
    "If you want to interact with the database directly rather than through the utility methods, you'll need a connection and cursor, initialized as below. Note that if you aren't in the same directory as the database file, you'll need to provide the full path, or else the `connect` call will create a new file in your current directory."
   ]
  },
  {
   "cell_type": "code",
   "execution_count": null,
   "id": "f890ddd9",
   "metadata": {},
   "outputs": [],
   "source": [
    "conn = sql.connect('shel_database.sqlite')\n",
    "cur = conn.cursor()"
   ]
  },
  {
   "cell_type": "markdown",
   "id": "bf8cedb7",
   "metadata": {},
   "source": [
    "### Loading a new or updated prior\n",
    "\n",
    "System parameters (e.g., P_p1 t0_p1, ecc_p1) can be loaded into the `system_parameters` table with the `utils.load_prior` method. The inputs are the target name, parameter, prior value, and prior error. Stellar parameters (e.g. rho) aren't handled by this method, as they go into a separate `stellar_parameters` table. "
   ]
  },
  {
   "cell_type": "code",
   "execution_count": null,
   "id": "4525cf3b",
   "metadata": {},
   "outputs": [],
   "source": [
    "# Load a system parameter prior.\n",
    "load_prior(\"HAT-P-26\", \"P_p1\", 4.23452, 1.5e-05)\n",
    "\n",
    "# Get target id\n",
    "target_id = cur.execute(\"select id from targets where name = 'HAT-P-26'\").fetchone()[0]\n",
    "\n",
    "# Load stellar parameters\n",
    "stmt = f'insert into stellar_parameters (target_id, rho, rho_err) values ({target_id}, 2045.7, 110)'\n",
    "\n",
    "# Or if the target is already in the table, update\n",
    "#stmt = f'update stellar_parameters set rho=2045.7, rho_err=110 where target_id = {target_id}'\n",
    "\n",
    "# Execute whichever statement is needed\n",
    "cur.execute(stmt)\n",
    "\n",
    "# You have to commit the changes to have them saved\n",
    "conn.commit()"
   ]
  },
  {
   "cell_type": "markdown",
   "id": "3759dc7c",
   "metadata": {},
   "source": [
    "### Running a fit\n",
    "\n",
    "This consists of four steps, one of which is optional:\n",
    "1. Initialize the fitter object\n",
    "2. Separately fit the TESS systematics (optional)\n",
    "3. Initialize the fitter. Most of the options are set in this step.\n",
    "4. Actually run the fit.\n",
    "\n",
    "By default, the outputs of the fit will be written to `juliet_fits/[target name]/`. In steps 1 and 2 you can specify an `out_folder_suffix`, which will cause the output to be written to `juliet_fits/[target name][out_folder_suffix]`, for example `juliet_fits/WASP-26_no_tess/`."
   ]
  },
  {
   "cell_type": "code",
   "execution_count": null,
   "id": "47b13a2b",
   "metadata": {},
   "outputs": [],
   "source": [
    "# Provide the target name when initializing the fitter\n",
    "fitter = SHEL_Fitter(\"HAT-P-26\")"
   ]
  },
  {
   "cell_type": "code",
   "execution_count": null,
   "id": "a0b6c864",
   "metadata": {},
   "outputs": [],
   "source": [
    "fitter.fit_tess_systematics()"
   ]
  },
  {
   "cell_type": "markdown",
   "id": "81af79fe",
   "metadata": {},
   "source": [
    "If you did not run the TESS systematics fit separately, you can set `fit_oot=True` in the `initialize_fit` call to fit all the TESS (and other light curve) data. If that parameter is not set, the light curve data will be trimmed to +/- 1.5 transit widths (this was previously smaller, but if the P/t0 priors aren't great it got close to cutting off actual transit data in some cases).\n",
    "\n",
    "Other options include excluding RV or light curve data from some sources (to avoid duplicate data that is present in multiple references) and setting eccentricity and omega (and their errors). There is also a flag to only fit the TESS data (`TESS_only=True`)."
   ]
  },
  {
   "cell_type": "code",
   "execution_count": null,
   "id": "264efa60",
   "metadata": {},
   "outputs": [],
   "source": [
    "fitter.initialize_fit(exclude_rv_sources=[42,])"
   ]
  },
  {
   "cell_type": "code",
   "execution_count": null,
   "id": "74c31645",
   "metadata": {},
   "outputs": [],
   "source": [
    "# Finally we call this to actually kick off the fit. This uses the dynamic_dynesty sampler.\n",
    "fitter.run_fit()"
   ]
  },
  {
   "cell_type": "markdown",
   "id": "6c510bc2",
   "metadata": {},
   "source": [
    "### Load posteriors and check for outliers\n",
    "\n",
    "Note that the `load_results` function requires you to go into the posteriors.dat file and replace any tabs with space before running it. "
   ]
  },
  {
   "cell_type": "code",
   "execution_count": null,
   "id": "5d95235e",
   "metadata": {},
   "outputs": [],
   "source": [
    "load_results('HAT-P-26')"
   ]
  },
  {
   "cell_type": "markdown",
   "id": "a604cdcc",
   "metadata": {},
   "source": [
    "This outlier detection will only check results that have a last_update timestamp. You can specify a minimum timestamp with `last_update_min = [unix timestamp]`. This returns target/parameter combinations where the posterior 3-sigma range and prior 3-sigma range do not overlap."
   ]
  },
  {
   "cell_type": "code",
   "execution_count": null,
   "id": "812c0d42",
   "metadata": {},
   "outputs": [],
   "source": [
    "detect_outlier_results()"
   ]
  },
  {
   "cell_type": "code",
   "execution_count": null,
   "id": "f8a40c14",
   "metadata": {},
   "outputs": [],
   "source": []
  }
 ],
 "metadata": {
  "kernelspec": {
   "display_name": "Python 3 (ipykernel)",
   "language": "python",
   "name": "python3"
  },
  "language_info": {
   "codemirror_mode": {
    "name": "ipython",
    "version": 3
   },
   "file_extension": ".py",
   "mimetype": "text/x-python",
   "name": "python",
   "nbconvert_exporter": "python",
   "pygments_lexer": "ipython3",
   "version": "3.9.7"
  }
 },
 "nbformat": 4,
 "nbformat_minor": 5
}
