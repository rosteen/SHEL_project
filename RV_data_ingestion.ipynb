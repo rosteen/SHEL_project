{
 "cells": [
  {
   "cell_type": "code",
   "execution_count": 6,
   "id": "1d7ba3f7",
   "metadata": {
    "ExecuteTime": {
     "end_time": "2022-02-16T17:58:11.747802Z",
     "start_time": "2022-02-16T17:58:11.742614Z"
    }
   },
   "outputs": [],
   "source": [
    "%matplotlib inline\n",
    "from astropy.io import fits\n",
    "from astropy import coordinates as c\n",
    "import matplotlib.pyplot as plt\n",
    "import numpy as np\n",
    "import sqlite3 as sql\n",
    "import barycorrpy\n",
    "import csv"
   ]
  },
  {
   "cell_type": "code",
   "execution_count": 7,
   "id": "6b39832c",
   "metadata": {
    "ExecuteTime": {
     "end_time": "2022-02-16T17:58:12.717682Z",
     "start_time": "2022-02-16T17:58:12.713678Z"
    }
   },
   "outputs": [],
   "source": [
    "data_dir = 'data/radial_velocity/'\n",
    "\n",
    "rv_data = {\"Anderson_2010_WASP17.csv\": {\"time\": \"BJD\", \"time_offset\": 2450000,\n",
    "                \"target\": \"Wasp-17\", \"instrument\": \"multi\",},\n",
    "           \"Bayliss_2010_WASP17.csv\": {\"time\": \"HJD\", \"time_offset\": 0,\n",
    "                \"columns\": [\"\",\"\",\"\"]},\n",
    "           \"apj493234t3_mrt.txt\": {\"time\": \"BJDTDB\", \"time_offset\": 0, \n",
    "                \"instrument\": \"HIRES\",\n",
    "                \"columns\": [\"time\",\"rv\",\"rv_err\", \"target\"]},\n",
    "           \"J_A+A_524_A25/rvdata.dat\": {\"time\": \"BJD\", \"time_offset\": 0,\n",
    "                \"columns\": [\"target\",\"instrument\",\"time\",\"rv\",\"rv_err\"]}\n",
    "          }"
   ]
  },
  {
   "cell_type": "code",
   "execution_count": 11,
   "id": "69a85b09",
   "metadata": {
    "ExecuteTime": {
     "end_time": "2022-02-16T17:59:03.669990Z",
     "start_time": "2022-02-16T17:59:03.643242Z"
    }
   },
   "outputs": [],
   "source": [
    "# Do the simplest one first\n",
    "\n",
    "conn = sql.connect('shel_database.sqlite')\n",
    "cur = conn.cursor()\n",
    "\n",
    "with open(data_dir + 'apj493234t3_mrt.txt', 'r') as f:\n",
    "    freader = csv.reader(f, delimiter = ' ')\n",
    "    for row in freader:\n",
    "        if row[0][0] == \"#\":\n",
    "            continue\n",
    "        # deal with variable whitespace\n",
    "        data = [x for x in row if x != \"\"]\n",
    "        target_id = cur.execute(f'select id from targets where name = \"{data[3]}\"').fetchall()\n",
    "        if target_id == []:\n",
    "            continue\n",
    "        target_id = target_id[0][0]\n",
    "        # This is data ref 1, need to code generalized ref_id retrieval\n",
    "        stmt = (\"insert into radial_velocities (target_id, reference_id, \"\n",
    "                f\"instrument, bjd, rv, rv_err) values ({target_id}, 1, 5, {data[0]},\"\n",
    "                f\"{data[1]}, {data[2]});\")\n",
    "        cur.execute(stmt)\n",
    "        \n",
    "conn.commit()\n",
    "cur.close()\n",
    "conn.close()"
   ]
  },
  {
   "cell_type": "code",
   "execution_count": null,
   "id": "74f91bcc",
   "metadata": {},
   "outputs": [],
   "source": []
  }
 ],
 "metadata": {
  "kernelspec": {
   "display_name": "Python 3 (ipykernel)",
   "language": "python",
   "name": "python3"
  },
  "language_info": {
   "codemirror_mode": {
    "name": "ipython",
    "version": 3
   },
   "file_extension": ".py",
   "mimetype": "text/x-python",
   "name": "python",
   "nbconvert_exporter": "python",
   "pygments_lexer": "ipython3",
   "version": "3.9.7"
  }
 },
 "nbformat": 4,
 "nbformat_minor": 5
}
