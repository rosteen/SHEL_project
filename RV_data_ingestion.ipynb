{
 "cells": [
  {
   "cell_type": "code",
   "execution_count": null,
   "id": "1d7ba3f7",
   "metadata": {},
   "outputs": [],
   "source": [
    "%matplotlib inline\n",
    "from astropy.io import fits\n",
    "from astropy import coordinates as c\n",
    "import matplotlib.pyplot as plt\n",
    "import numpy as np\n",
    "import sqlite3 as sql\n",
    "import barycorrpy\n",
    "import csv"
   ]
  },
  {
   "cell_type": "code",
   "execution_count": null,
   "id": "6b39832c",
   "metadata": {},
   "outputs": [],
   "source": [
    "data_dir = 'data/radial_velocity/'\n",
    "\n",
    "rv_data = {\"Anderson_2010_WASP17.csv\": {\"time\": \"BJD\", \"time_offset\": 2450000,\n",
    "                \"target\": \"Wasp-17\", \"instrument\": \"multi\",},\n",
    "           \"Bayliss_2010_WASP17.csv\": {\"time\": \"HJD\", \"time_offset\": 0,\n",
    "                \"columns\": [\"\",\"\",\"\"]},\n",
    "           \"apj493234t3_mrt.txt\": {\"time\": \"BJDTDB\", \"time_offset\": 0, \n",
    "                \"instrument\": \"HIRES\",\n",
    "                \"columns\": [\"time\",\"rv\",\"rv_err\", \"target\"]},\n",
    "           \"J_A+A_524_A25/rvdata.dat\": {\"time\": \"BJD\", \"time_offset\": 0,\n",
    "                \"columns\": [\"target\",\"instrument\",\"time\",\"rv\",\"rv_err\"]}\n",
    "          }"
   ]
  },
  {
   "cell_type": "code",
   "execution_count": null,
   "id": "69a85b09",
   "metadata": {},
   "outputs": [],
   "source": [
    "# Do the simplest one first\n",
    "\n",
    "conn = sql.connect('shel_database.sqlite')\n",
    "cur = conn.cursor()\n",
    "\n",
    "with open(data_dir + 'apj493234t3_mrt.txt', 'r') as f:\n",
    "    freader = csv.reader(f, delimiter = ' ')\n",
    "    for row in freader:\n",
    "        if row[0][0] == \"#\":\n",
    "            continue\n",
    "        # deal with variable whitespace\n",
    "        data = [x for x in row if x != \"\"]\n",
    "        target_id = cur.execute(f'select id from targets where name = \"{data[3]}\"').fetchall()\n",
    "        if target_id == []:\n",
    "            continue\n",
    "        target_id = target_id[0][0]\n",
    "        # This is data ref 1, need to code generalized ref_id retrieval\n",
    "        stmt = (\"insert into radial_velocities (target_id, reference_id, \"\n",
    "                f\"instrument, bjd, rv, rv_err) values ({target_id}, 1, 5, {data[0]},\"\n",
    "                f\"{data[1]}, {data[2]});\")\n",
    "        #cur.execute(stmt)\n",
    "        \n",
    "conn.commit()\n",
    "cur.close()\n",
    "conn.close()"
   ]
  },
  {
   "cell_type": "raw",
   "id": "1b7494a5",
   "metadata": {
    "ExecuteTime": {
     "end_time": "2022-02-23T21:11:27.075784Z",
     "start_time": "2022-02-23T21:11:27.071086Z"
    }
   },
   "source": [
    "# Add a \"site\" column to the instruments table corresponding to the string\n",
    "# that astropy.coordinates.EarthLocation.of_site() will accept\n",
    "conn = sql.connect('shel_database.sqlite')\n",
    "cur = conn.cursor()\n",
    "\n",
    "stmt = \"ALTER table instruments add column sitename text\"\n",
    "cur.execute(stmt)\n",
    "\n",
    "stmt = \"UPDATE instruments set sitename = 'Las Campanas Observatory' where name = 'MIKE'\"\n",
    "cur.execute(stmt)\n",
    "\n",
    "conn.commit()\n",
    "cur.close()\n",
    "conn.close()"
   ]
  },
  {
   "cell_type": "code",
   "execution_count": null,
   "id": "74f91bcc",
   "metadata": {},
   "outputs": [],
   "source": [
    "# RV from discovery paper\n",
    "\n",
    "conn = sql.connect('shel_database.sqlite')\n",
    "cur = conn.cursor()\n",
    "\n",
    "# Single target file so we don't need to do this in the loop\n",
    "target_id = cur.execute(f'select id from targets where name = \"WASP-17\"').fetchall()\n",
    "target_id = target_id[0][0]\n",
    "print(f\"Target ID: {target_id}\")\n",
    "\n",
    "# Insert the reference into the database if needed, and/or get ref ID\n",
    "url = \"https://iopscience.iop.org/article/10.1088/0004-637X/709/1/159\"\n",
    "fname = data_dir + \"Anderson_2010_WASP17.csv\"\n",
    "refnum = cur.execute(f\"select id from data_refs where url='{url}'\").fetchone()\n",
    "if refnum is None:\n",
    "    stmt = f\"insert into data_refs (local_filename, url) values ('{fname}', '{url}')\"\n",
    "    print(stmt)\n",
    "    cur.execute(stmt)\n",
    "    refnum = cur.execute(f\"select id from data_refs where url='{url}'\").fetchone()\n",
    "elif isinstance(refnum, (list, tuple)):\n",
    "    refnum = refnum[0]\n",
    "    \n",
    "print(f\"Refnum: {refnum}\")\n",
    "\n",
    "with open(data_dir + 'Anderson_2010_WASP17.csv', 'r') as f:\n",
    "    freader = csv.reader(f, delimiter = \"\\t\")\n",
    "    instrument = \"CORALIE\"\n",
    "    switch_inst = False\n",
    "    for row in freader:\n",
    "        if row[0][0] == \"#\":\n",
    "            if not switch_inst:\n",
    "                continue\n",
    "            else:\n",
    "                instrument = row[0][1:]\n",
    "                print(f\"Switching to {instrument}\")\n",
    "                continue\n",
    "        else:\n",
    "            # Next time we encounter a # after the header is a new instrument\n",
    "            switch_inst = True    \n",
    "            \n",
    "            # deal with variable whitespace\n",
    "            #data = [x for x in row if x != \"\"]\n",
    "            data = [float(x) for x in row if x != \"\"]\n",
    "        \n",
    "        # Get instrument_id\n",
    "        inst_id = cur.execute(f'select id from instruments where name = \"{instrument}\"').fetchall()\n",
    "        inst_id = inst_id[0][0]\n",
    "        print(f\"Instrument ID: {inst_id}\")\n",
    "        \n",
    "        # Convert to m/s from km/s, offset is from paper\n",
    "        rv = (data[1] + 49.5128)*1000\n",
    "        rv_err = data[2]*1000\n",
    "        # Need to code generalized ref_id retrieval\n",
    "        stmt = (\"insert into radial_velocities (target_id, reference_id, \"\n",
    "                f\"instrument, bjd, rv, rv_err) values ({target_id}, {refnum}, {inst_id},\"\n",
    "                f\"{data[0]+2450000}, {rv}, {rv_err});\")\n",
    "        print(stmt)\n",
    "        #cur.execute(stmt)\n",
    "        \n",
    "conn.commit()\n",
    "cur.close()\n",
    "conn.close()\n"
   ]
  },
  {
   "cell_type": "code",
   "execution_count": null,
   "id": "266c74ef",
   "metadata": {},
   "outputs": [],
   "source": [
    "# Next one needs to convert HJD to BJD\n",
    "# From https://gist.github.com/StuartLittlefair/4ab7bb8cf21862e250be8cb25f72bb7a\n",
    "# with some minor edits to the coordinate handling\n",
    "from astropy.coordinates import SkyCoord, EarthLocation\n",
    "from astropy import units as u\n",
    "from astropy.time import Time\n",
    "\n",
    "\n",
    "def helio_to_bary(coords, hjd, obs_name):\n",
    "    ra = coords[0].split(\":\")\n",
    "    ra = int(ra[0]) + int(ra[1])/60 + float(ra[2])/3600\n",
    "    dec = coords[1].split(\":\")\n",
    "    if int(dec[0]) < 1:\n",
    "        dec = int(dec[0]) - int(dec[1])/60 - float(dec[2])/3600\n",
    "    else:\n",
    "        dec = int(dec[0]) + int(dec[1])/60 + float(dec[2])/3600\n",
    "    star = SkyCoord(ra=ra*u.hour, dec=dec*u.deg)\n",
    "    print(star)\n",
    "    \n",
    "    helio = Time(hjd, scale='utc', format='jd')\n",
    "    obs = EarthLocation.of_site(obs_name)\n",
    "    ltt = helio.light_travel_time(star, 'heliocentric', location=obs)\n",
    "    print(f\"helio: {helio}\")\n",
    "    print(f\"ltt: {ltt}\")\n",
    "    guess = helio - ltt\n",
    "    # if we assume guess is correct - how far is heliocentric time away from true value?\n",
    "    delta = (guess + guess.light_travel_time(star, 'heliocentric', obs)).jd  - helio.jd\n",
    "    print(f\"delta: {delta}\")\n",
    "    # apply this correction\n",
    "    guess -= delta * u.d\n",
    "    print(delta*u.d)\n",
    "    print(guess.tdb)\n",
    "    \n",
    "    ltt = guess.light_travel_time(star, 'barycentric', obs)\n",
    "    print(f\"bary_ltt: {ltt}\")\n",
    "    return guess.tdb + ltt"
   ]
  },
  {
   "cell_type": "code",
   "execution_count": null,
   "id": "a9a03c26",
   "metadata": {
    "scrolled": false
   },
   "outputs": [],
   "source": [
    "conn = sql.connect('shel_database.sqlite')\n",
    "cur = conn.cursor()\n",
    "\n",
    "# Single target file so we don't need to do this in the loop\n",
    "target_id = cur.execute(f'select id from targets where name = \"WASP-17\"').fetchall()\n",
    "target_id = target_id[0][0]\n",
    "print(f\"Target ID: {target_id}\")\n",
    "\n",
    "# Get coordinates of target\n",
    "coords = cur.execute(f'select ra, dec from targets where id = {target_id}').fetchone()\n",
    "print(f\"Coords: {coords}\")\n",
    "\n",
    "# Get site name for instrument\n",
    "observatory = cur.execute(f\"select sitename from instruments where id = 5\").fetchone()[0]\n",
    "\n",
    "# Insert the reference into the database if needed, and/or get ref ID\n",
    "url = \"https://iopscience.iop.org/article/10.1088/2041-8205/722/2/L224\"\n",
    "fname = data_dir + \"Bayliss_2010_WASP17.csv\"\n",
    "\n",
    "refnum = cur.execute(f\"select id from data_refs where url='{url}'\").fetchone()\n",
    "if refnum is None:\n",
    "    stmt = f\"insert into data_refs (local_filename, url) values ('{fname}', '{url}')\"\n",
    "    print(stmt)\n",
    "    cur.execute(stmt)\n",
    "    refnum = cur.execute(f\"select id from data_refs where url='{url}'\").fetchone()\n",
    "elif isinstance(refnum, (list, tuple)):\n",
    "    refnum = refnum[0]\n",
    "    \n",
    "print(f\"Refnum: {refnum}\")\n",
    "\n",
    "with open(data_dir + 'Bayliss_2010_WASP17.csv', 'r') as f:\n",
    "    freader = csv.reader(f, delimiter = \"\\t\")\n",
    "    instrument = \"MIKE\"\n",
    "    # Get instrument_id\n",
    "    inst_id = cur.execute(f'select id from instruments where name = \"{instrument}\"').fetchall()\n",
    "    inst_id = inst_id[0][0]\n",
    "    print(f\"Instrument ID: {inst_id}\")\n",
    "\n",
    "    for row in freader:\n",
    "        if row[0][0] == \"#\":\n",
    "            continue\n",
    "\n",
    "        # deal with variable whitespace\n",
    "        #data = [x for x in row if x != \"\"]\n",
    "        data = [float(x) for x in row if x != \"\"]\n",
    "        \n",
    "        # Convert times from HJD to BJD\n",
    "        time_bjd = helio_to_bary(coords, data[0], observatory)\n",
    "        print(data[0] - time_bjd.value)\n",
    "        rv = data[1]\n",
    "        rv_err = data[2]\n",
    "        # Need to code generalized ref_id retrieval\n",
    "        stmt = (\"insert into radial_velocities (target_id, reference_id, \"\n",
    "                f\"instrument, bjd, rv, rv_err) values ({target_id}, {refnum}, {inst_id}, \"\n",
    "                f\"{time_bjd}, {rv}, {rv_err});\")\n",
    "        #cur.execute(stmt)\n",
    "        \n",
    "conn.commit()\n",
    "cur.close()\n",
    "conn.close()"
   ]
  },
  {
   "cell_type": "code",
   "execution_count": null,
   "id": "ffbf6807",
   "metadata": {},
   "outputs": [],
   "source": [
    "# Last one for WASP-17! In BJD, but need to strip \"b\" from \n",
    "# target names and filter out instruments we don't want\n",
    "\n",
    "# I can only find the RV offset in the paper for WASP-17, not 6 or 18, so\n",
    "# I'm only going to load 17 for now.\n",
    "\n",
    "conn = sql.connect('shel_database.sqlite')\n",
    "cur = conn.cursor()\n",
    "\n",
    "\n",
    "# Insert the reference into the database if needed, and/or get ref ID\n",
    "url = \"https://www.aanda.org/articles/aa/full_html/2010/16/aa14525-10/aa14525-10.html\"\n",
    "fname = data_dir + \"J_A+A_524_A25/rvdata.dat\"\n",
    "instruments = {\"C1\": \"CORALIE\", \"H1\": \"HARPS\"}\n",
    "\n",
    "refnum = cur.execute(f\"select id from data_refs where url='{url}'\").fetchone()\n",
    "if refnum is None:\n",
    "    stmt = f\"insert into data_refs (local_filename, url) values ('{fname}', '{url}')\"\n",
    "    cur.execute(stmt)\n",
    "    refnum = cur.execute(f\"select id from data_refs where url='{url}'\").fetchone()[0]\n",
    "elif isinstance(refnum, (list, tuple)):\n",
    "    refnum = refnum[0]\n",
    "    \n",
    "print(f\"Refnum: {refnum}\")\n",
    "\n",
    "with open(fname, 'r') as f:\n",
    "    freader = csv.reader(f, delimiter = ' ')\n",
    "    for row in freader:\n",
    "        if row[0][0] == \"#\":\n",
    "            continue\n",
    "            \n",
    "        # deal with variable whitespace\n",
    "        data = [x for x in row if x != \"\"]\n",
    "        \n",
    "        # get target ID\n",
    "        target_id = cur.execute(f'select id from targets where name = \"{data[0][:-1]}\"').fetchall()\n",
    "        if target_id == []:\n",
    "            continue\n",
    "            \n",
    "        target_id = target_id[0][0]\n",
    "        # Skipping all but WASP-17 for now\n",
    "        if target_id != 42:\n",
    "            continue\n",
    "        \n",
    "        # Get instrument_id. Don't care about Rossiter-McLaughlin effect measurements\n",
    "        if data[1] in instruments:\n",
    "            instrument = instruments[data[1]]\n",
    "        else:\n",
    "            continue\n",
    "            \n",
    "        inst_id = cur.execute(f'select id from instruments where name = \"{instrument}\"').fetchall()\n",
    "        inst_id = inst_id[0][0]\n",
    "        print(f\"Instrument ID: {inst_id}\")\n",
    "        \n",
    "        # Convert to m/s from km/s, offset is from paper\n",
    "        if inst_id == 4:\n",
    "            offset = -49.51367\n",
    "        elif inst_id == 3:\n",
    "            offset = -49.49168\n",
    "        else:\n",
    "            raise ValueError(\"What instrument is this??\")\n",
    "            \n",
    "        rv = (float(data[3]) - offset)*1000\n",
    "        rv_err = float(data[4])*1000\n",
    "        \n",
    "        stmt = (\"insert into radial_velocities (target_id, reference_id, \"\n",
    "                f\"instrument, bjd, rv, rv_err) values ({target_id}, {refnum}, \"\n",
    "                f\"{inst_id}, {data[2]}, {rv}, {rv_err});\")\n",
    "        print(stmt)\n",
    "        #cur.execute(stmt)\n",
    "        \n",
    "conn.commit()\n",
    "cur.close()\n",
    "conn.close()"
   ]
  },
  {
   "cell_type": "code",
   "execution_count": null,
   "id": "450a547f",
   "metadata": {},
   "outputs": [],
   "source": [
    "helio_to_bary(('15:59:50.9491505016', '00:03:42.312819096'), 2454336.7382708, 'Keck Observatory')"
   ]
  },
  {
   "cell_type": "code",
   "execution_count": null,
   "id": "4010904b",
   "metadata": {},
   "outputs": [],
   "source": [
    "from utils import ingest_rv_data"
   ]
  },
  {
   "cell_type": "raw",
   "id": "a7781690",
   "metadata": {},
   "source": [
    "# Done\n",
    "ingest_rv_data(\"Albrecht_2012_multiple.dat\", \n",
    "               \"https://iopscience.iop.org/article/10.1088/0004-637X/757/1/18\", \n",
    "               1, 2, 3, inst_col = 4, target_col=0, delimiter=\" \",\n",
    "                time_type=\"BJD-TDB\", time_offset=0)"
   ]
  },
  {
   "cell_type": "raw",
   "id": "7bdb012c",
   "metadata": {
    "ExecuteTime": {
     "end_time": "2022-03-23T17:07:02.765089Z",
     "start_time": "2022-03-23T17:07:02.476584Z"
    }
   },
   "source": [
    "# Done\n",
    "ingest_rv_data(\"Bakos_2006_HAT-P-1.csv\", \n",
    "               \"https://iopscience.iop.org/article/10.1086/509874\", \n",
    "               0, 1, 2, inst_col = 3, target=\"HAT-P-1\", delimiter=\"\\t\",\n",
    "                time_type=\"HJD\", time_offset=2453000)"
   ]
  },
  {
   "cell_type": "raw",
   "id": "b1fa1ac3",
   "metadata": {
    "ExecuteTime": {
     "end_time": "2022-03-23T17:16:27.460350Z",
     "start_time": "2022-03-23T17:16:24.930761Z"
    }
   },
   "source": [
    "# Done\n",
    "ingest_rv_data(\"Johnson_2008_HAT-P-1.dat\", \n",
    "               \"https://iopscience.iop.org/article/10.1086/591078/fulltext/\", \n",
    "               1, 2, 3, inst_list = [\"HIRES\", \"HDS\"], target=\"HAT-P-1\", delimiter=\" \",\n",
    "                time_type=\"HJD\", time_offset=0)"
   ]
  },
  {
   "cell_type": "raw",
   "id": "ba5fc9dd",
   "metadata": {
    "ExecuteTime": {
     "end_time": "2022-03-23T18:30:12.440494Z",
     "start_time": "2022-03-23T18:30:11.226213Z"
    }
   },
   "source": [
    "# utc_tdb.JDUTC_to_BJDTDB not quite working\n",
    "# Fixed, done\n",
    "\n",
    "ingest_rv_data(\"Ment_2018_multiple.dat\", \n",
    "               \"https://iopscience.iop.org/article/10.3847/1538-3881/aae1f5\", \n",
    "               1, 2, 3, instrument=\"HIRES\", target_col=0, delimiter=\" \",\n",
    "                time_type=\"JD\", time_offset=2440000)"
   ]
  },
  {
   "cell_type": "raw",
   "id": "652724c6",
   "metadata": {
    "ExecuteTime": {
     "end_time": "2022-03-23T19:15:41.698285Z",
     "start_time": "2022-03-23T19:15:41.625154Z"
    }
   },
   "source": [
    "# Done\n",
    "\n",
    "ingest_rv_data(\"J_A+A_602_A107/table1.dat\", \n",
    "               \"https://www.aanda.org/articles/aa/full_html/2017/06/aa29882-16/aa29882-16.html\", \n",
    "               1, 2, 3, instrument=\"HARPS-N\", target_col=0, delimiter=\" \",\n",
    "                time_type=\"BJD-UTC\", time_offset=2450000)"
   ]
  },
  {
   "cell_type": "raw",
   "id": "e70e64b3",
   "metadata": {
    "ExecuteTime": {
     "end_time": "2022-03-23T20:27:50.563214Z",
     "start_time": "2022-03-23T20:27:50.557987Z"
    }
   },
   "source": [
    "# Done\n",
    "\n",
    "ingest_rv_data(\"Bakos_2010_HAT-P-11.dat\", \n",
    "               \"https://iopscience.iop.org/article/10.1088/0004-637X/710/2/1724#apj303711t2\", \n",
    "               0, 1, 2, instrument=\"HIRES\", target=\"HAT-P-11\", delimiter=\" \",\n",
    "                time_type=\"BJD-TDB\", time_offset=0)"
   ]
  },
  {
   "cell_type": "raw",
   "id": "a59c4c8d",
   "metadata": {
    "ExecuteTime": {
     "end_time": "2022-03-23T20:35:37.146521Z",
     "start_time": "2022-03-23T20:35:37.139245Z"
    }
   },
   "source": [
    "# Done\n",
    "\n",
    "ingest_rv_data(\"Yee_2018_HAT-P-11.dat\", \n",
    "               \"https://iopscience.iop.org/article/10.3847/1538-3881/aabfec#ajaabfect1\", \n",
    "               0, 1, 2, instrument=\"HIRES\", target=\"HAT-P-11\", delimiter=\" \",\n",
    "                time_type=\"BJD-TDB\", time_offset=0)\n"
   ]
  },
  {
   "cell_type": "raw",
   "id": "3f0f05cb",
   "metadata": {
    "ExecuteTime": {
     "end_time": "2022-03-23T20:40:28.275262Z",
     "start_time": "2022-03-23T20:40:28.269326Z"
    }
   },
   "source": [
    "# Done\n",
    "\n",
    "ingest_rv_data(\"Yee_2020_WASP12.dat\", \n",
    "               \"https://iopscience.iop.org/article/10.3847/2041-8213/ab5c16#apjlab5c16t1\", \n",
    "               0, 1, 2, instrument=\"HIRES\", target=\"WASP-12\", delimiter=\" \",\n",
    "                time_type=\"BJD-TDB\", time_offset=0)"
   ]
  },
  {
   "cell_type": "code",
   "execution_count": null,
   "id": "4d18334e",
   "metadata": {},
   "outputs": [],
   "source": []
  }
 ],
 "metadata": {
  "kernelspec": {
   "display_name": "Python 3 (ipykernel)",
   "language": "python",
   "name": "python3"
  },
  "language_info": {
   "codemirror_mode": {
    "name": "ipython",
    "version": 3
   },
   "file_extension": ".py",
   "mimetype": "text/x-python",
   "name": "python",
   "nbconvert_exporter": "python",
   "pygments_lexer": "ipython3",
   "version": "3.9.7"
  }
 },
 "nbformat": 4,
 "nbformat_minor": 5
}
