{
 "cells": [
  {
   "cell_type": "code",
   "execution_count": 1,
   "id": "1d7ba3f7",
   "metadata": {
    "ExecuteTime": {
     "end_time": "2022-03-02T14:55:06.399031Z",
     "start_time": "2022-03-02T14:55:04.733689Z"
    }
   },
   "outputs": [],
   "source": [
    "%matplotlib inline\n",
    "from astropy.io import fits\n",
    "from astropy import coordinates as c\n",
    "import matplotlib.pyplot as plt\n",
    "import numpy as np\n",
    "import sqlite3 as sql\n",
    "import barycorrpy\n",
    "import csv"
   ]
  },
  {
   "cell_type": "code",
   "execution_count": 6,
   "id": "6b39832c",
   "metadata": {
    "ExecuteTime": {
     "end_time": "2022-03-02T15:52:23.500263Z",
     "start_time": "2022-03-02T15:52:23.496259Z"
    }
   },
   "outputs": [],
   "source": [
    "data_dir = 'data/radial_velocity/'\n",
    "\n",
    "rv_data = {\"Anderson_2010_WASP17.csv\": {\"time\": \"BJD\", \"time_offset\": 2450000,\n",
    "                \"target\": \"Wasp-17\", \"instrument\": \"multi\",},\n",
    "           \"Bayliss_2010_WASP17.csv\": {\"time\": \"HJD\", \"time_offset\": 0,\n",
    "                \"columns\": [\"\",\"\",\"\"]},\n",
    "           \"apj493234t3_mrt.txt\": {\"time\": \"BJDTDB\", \"time_offset\": 0, \n",
    "                \"instrument\": \"HIRES\",\n",
    "                \"columns\": [\"time\",\"rv\",\"rv_err\", \"target\"]},\n",
    "           \"J_A+A_524_A25/rvdata.dat\": {\"time\": \"BJD\", \"time_offset\": 0,\n",
    "                \"columns\": [\"target\",\"instrument\",\"time\",\"rv\",\"rv_err\"]}\n",
    "          }"
   ]
  },
  {
   "cell_type": "code",
   "execution_count": null,
   "id": "69a85b09",
   "metadata": {},
   "outputs": [],
   "source": [
    "# Do the simplest one first\n",
    "\n",
    "conn = sql.connect('shel_database.sqlite')\n",
    "cur = conn.cursor()\n",
    "\n",
    "with open(data_dir + 'apj493234t3_mrt.txt', 'r') as f:\n",
    "    freader = csv.reader(f, delimiter = ' ')\n",
    "    for row in freader:\n",
    "        if row[0][0] == \"#\":\n",
    "            continue\n",
    "        # deal with variable whitespace\n",
    "        data = [x for x in row if x != \"\"]\n",
    "        target_id = cur.execute(f'select id from targets where name = \"{data[3]}\"').fetchall()\n",
    "        if target_id == []:\n",
    "            continue\n",
    "        target_id = target_id[0][0]\n",
    "        # This is data ref 1, need to code generalized ref_id retrieval\n",
    "        stmt = (\"insert into radial_velocities (target_id, reference_id, \"\n",
    "                f\"instrument, bjd, rv, rv_err) values ({target_id}, 1, 5, {data[0]},\"\n",
    "                f\"{data[1]}, {data[2]});\")\n",
    "        #cur.execute(stmt)\n",
    "        \n",
    "conn.commit()\n",
    "cur.close()\n",
    "conn.close()"
   ]
  },
  {
   "cell_type": "raw",
   "id": "1b7494a5",
   "metadata": {
    "ExecuteTime": {
     "end_time": "2022-02-23T21:11:27.075784Z",
     "start_time": "2022-02-23T21:11:27.071086Z"
    }
   },
   "source": [
    "# Add a \"site\" column to the instruments table corresponding to the string\n",
    "# that astropy.coordinates.EarthLocation.of_site() will accept\n",
    "conn = sql.connect('shel_database.sqlite')\n",
    "cur = conn.cursor()\n",
    "\n",
    "stmt = \"ALTER table instruments add column sitename text\"\n",
    "cur.execute(stmt)\n",
    "\n",
    "stmt = \"UPDATE instruments set sitename = 'Las Campanas Observatory' where name = 'MIKE'\"\n",
    "cur.execute(stmt)\n",
    "\n",
    "conn.commit()\n",
    "cur.close()\n",
    "conn.close()"
   ]
  },
  {
   "cell_type": "code",
   "execution_count": 86,
   "id": "74f91bcc",
   "metadata": {
    "ExecuteTime": {
     "end_time": "2022-03-02T21:38:12.715026Z",
     "start_time": "2022-03-02T21:38:12.694000Z"
    }
   },
   "outputs": [
    {
     "name": "stdout",
     "output_type": "stream",
     "text": [
      "Target ID: 42\n",
      "Refnum: 2\n",
      "Instrument ID: 4\n",
      "insert into radial_velocities (target_id, reference_id, instrument, bjd, rv, rv_err) values (42, 2, 4,2454329.6037, 55.79999999999785, 42.8);\n",
      "Instrument ID: 4\n",
      "insert into radial_velocities (target_id, reference_id, instrument, bjd, rv, rv_err) values (42, 2, 4,2454360.4863, 146.6999999999956, 44.4);\n",
      "Instrument ID: 4\n",
      "insert into radial_velocities (target_id, reference_id, instrument, bjd, rv, rv_err) values (42, 2, 4,2454362.498, -4.699999999999704, 40.7);\n",
      "Instrument ID: 4\n",
      "insert into radial_velocities (target_id, reference_id, instrument, bjd, rv, rv_err) values (42, 2, 4,2454364.488, 23.699999999998056, 43.2);\n",
      "Instrument ID: 4\n",
      "insert into radial_velocities (target_id, reference_id, instrument, bjd, rv, rv_err) values (42, 2, 4,2454367.4883, 71.30000000000081, 34.3);\n",
      "Instrument ID: 4\n",
      "insert into radial_velocities (target_id, reference_id, instrument, bjd, rv, rv_err) values (42, 2, 4,2454558.8839, 13.999999999995794, 31.099999999999998);\n",
      "Instrument ID: 4\n",
      "insert into radial_velocities (target_id, reference_id, instrument, bjd, rv, rv_err) values (42, 2, 4,2454559.7708, -67.00000000000017, 32.5);\n",
      "Instrument ID: 4\n",
      "insert into radial_velocities (target_id, reference_id, instrument, bjd, rv, rv_err) values (42, 2, 4,2454560.7314, -60.600000000000875, 29.5);\n",
      "Instrument ID: 4\n",
      "insert into radial_velocities (target_id, reference_id, instrument, bjd, rv, rv_err) values (42, 2, 4,2454588.7799, 24.699999999995725, 28.9);\n",
      "Instrument ID: 4\n",
      "insert into radial_velocities (target_id, reference_id, instrument, bjd, rv, rv_err) values (42, 2, 4,2454591.7778, 46.700000000001296, 34.0);\n",
      "Instrument ID: 4\n",
      "insert into radial_velocities (target_id, reference_id, instrument, bjd, rv, rv_err) values (42, 2, 4,2454622.6917, 115.20000000000152, 35.1);\n",
      "Instrument ID: 4\n",
      "insert into radial_velocities (target_id, reference_id, instrument, bjd, rv, rv_err) values (42, 2, 4,2454624.6367, 63.400000000001455, 36.7);\n",
      "Instrument ID: 4\n",
      "insert into radial_velocities (target_id, reference_id, instrument, bjd, rv, rv_err) values (42, 2, 4,2454651.6195, 56.39999999999645, 31.9);\n",
      "Instrument ID: 4\n",
      "insert into radial_velocities (target_id, reference_id, instrument, bjd, rv, rv_err) values (42, 2, 4,2454659.5246, 43.50000000000165, 40.5);\n",
      "Instrument ID: 4\n",
      "insert into radial_velocities (target_id, reference_id, instrument, bjd, rv, rv_err) values (42, 2, 4,2454664.6425, -29.60000000000207, 35.3);\n",
      "Instrument ID: 4\n",
      "insert into radial_velocities (target_id, reference_id, instrument, bjd, rv, rv_err) values (42, 2, 4,2454665.6593, 22.30000000000132, 37.699999999999996);\n",
      "Instrument ID: 4\n",
      "insert into radial_velocities (target_id, reference_id, instrument, bjd, rv, rv_err) values (42, 2, 4,2454682.5824, 12.099999999996669, 30.900000000000002);\n",
      "Instrument ID: 4\n",
      "insert into radial_velocities (target_id, reference_id, instrument, bjd, rv, rv_err) values (42, 2, 4,2454684.6264, -4.100000000001103, 35.7);\n",
      "Instrument ID: 4\n",
      "insert into radial_velocities (target_id, reference_id, instrument, bjd, rv, rv_err) values (42, 2, 4,2454685.5145, 38.699999999998624, 30.700000000000003);\n",
      "Instrument ID: 4\n",
      "insert into radial_velocities (target_id, reference_id, instrument, bjd, rv, rv_err) values (42, 2, 4,2454690.6182, -64.79999999999819, 35.0);\n",
      "Instrument ID: 4\n",
      "insert into radial_velocities (target_id, reference_id, instrument, bjd, rv, rv_err) values (42, 2, 4,2454691.6077, -1.2000000000043087, 40.599999999999994);\n",
      "Instrument ID: 4\n",
      "insert into radial_velocities (target_id, reference_id, instrument, bjd, rv, rv_err) values (42, 2, 4,2454939.8457, 73.39999999999947, 34.9);\n",
      "Instrument ID: 4\n",
      "insert into radial_velocities (target_id, reference_id, instrument, bjd, rv, rv_err) values (42, 2, 4,2454940.7346, -70.99999999999795, 30.900000000000002);\n",
      "Instrument ID: 4\n",
      "insert into radial_velocities (target_id, reference_id, instrument, bjd, rv, rv_err) values (42, 2, 4,2454941.852, -27.999999999998693, 29.0);\n",
      "Instrument ID: 4\n",
      "insert into radial_velocities (target_id, reference_id, instrument, bjd, rv, rv_err) values (42, 2, 4,2454942.6959, 35.29999999999944, 22.700000000000003);\n",
      "Instrument ID: 4\n",
      "insert into radial_velocities (target_id, reference_id, instrument, bjd, rv, rv_err) values (42, 2, 4,2454942.8747, 93.19999999999595, 29.1);\n",
      "Instrument ID: 4\n",
      "insert into radial_velocities (target_id, reference_id, instrument, bjd, rv, rv_err) values (42, 2, 4,2454943.6655, 2.4999999999977263, 25.3);\n",
      "Instrument ID: 4\n",
      "insert into radial_velocities (target_id, reference_id, instrument, bjd, rv, rv_err) values (42, 2, 4,2454943.8872, -75.70000000000476, 26.8);\n",
      "Instrument ID: 4\n",
      "insert into radial_velocities (target_id, reference_id, instrument, bjd, rv, rv_err) values (42, 2, 4,2454944.6858, -41.200000000003456, 25.0);\n",
      "Instrument ID: 4\n",
      "insert into radial_velocities (target_id, reference_id, instrument, bjd, rv, rv_err) values (42, 2, 4,2454944.8689, -61.79999999999808, 24.9);\n",
      "Instrument ID: 4\n",
      "insert into radial_velocities (target_id, reference_id, instrument, bjd, rv, rv_err) values (42, 2, 4,2454945.6969, -31.399999999997874, 25.2);\n",
      "Instrument ID: 4\n",
      "insert into radial_velocities (target_id, reference_id, instrument, bjd, rv, rv_err) values (42, 2, 4,2454945.8277, -63.90000000000384, 26.3);\n",
      "Instrument ID: 4\n",
      "insert into radial_velocities (target_id, reference_id, instrument, bjd, rv, rv_err) values (42, 2, 4,2454946.7289, 46.599999999997976, 25.1);\n",
      "Instrument ID: 4\n",
      "insert into radial_velocities (target_id, reference_id, instrument, bjd, rv, rv_err) values (42, 2, 4,2454946.9069, 54.999999999999716, 25.6);\n",
      "Instrument ID: 4\n",
      "insert into radial_velocities (target_id, reference_id, instrument, bjd, rv, rv_err) values (42, 2, 4,2454947.6558, 9.99999999999801, 26.1);\n",
      "Instrument ID: 4\n",
      "insert into radial_velocities (target_id, reference_id, instrument, bjd, rv, rv_err) values (42, 2, 4,2454947.8694, 3.5999999999987153, 25.1);\n",
      "Instrument ID: 4\n",
      "insert into radial_velocities (target_id, reference_id, instrument, bjd, rv, rv_err) values (42, 2, 4,2454948.6415, -7.500000000000284, 25.1);\n",
      "Instrument ID: 4\n",
      "insert into radial_velocities (target_id, reference_id, instrument, bjd, rv, rv_err) values (42, 2, 4,2454948.8836, -112.20000000000141, 25.4);\n",
      "Instrument ID: 4\n",
      "insert into radial_velocities (target_id, reference_id, instrument, bjd, rv, rv_err) values (42, 2, 4,2454949.8646, 48.4999999999971, 27.900000000000002);\n",
      "Instrument ID: 4\n",
      "insert into radial_velocities (target_id, reference_id, instrument, bjd, rv, rv_err) values (42, 2, 4,2454951.6661, -10.500000000000398, 25.0);\n",
      "Instrument ID: 4\n",
      "insert into radial_velocities (target_id, reference_id, instrument, bjd, rv, rv_err) values (42, 2, 4,2454951.8719, -33.00000000000125, 27.099999999999998);\n",
      "Switching to HARPS\n",
      "Instrument ID: 3\n",
      "insert into radial_velocities (target_id, reference_id, instrument, bjd, rv, rv_err) values (42, 2, 3,2454564.8195, 24.399999999999977, 10.8);\n",
      "Instrument ID: 3\n",
      "insert into radial_velocities (target_id, reference_id, instrument, bjd, rv, rv_err) values (42, 2, 3,2454565.8731, 77.19999999999771, 9.2);\n",
      "Instrument ID: 3\n",
      "insert into radial_velocities (target_id, reference_id, instrument, bjd, rv, rv_err) values (42, 2, 3,2454567.8516, -24.00000000000091, 10.5);\n",
      "Switching to Note.\n",
      "Switching to a BS: bisector span.\n"
     ]
    }
   ],
   "source": [
    "# RV from discovery paper\n",
    "\n",
    "conn = sql.connect('shel_database.sqlite')\n",
    "cur = conn.cursor()\n",
    "\n",
    "# Single target file so we don't need to do this in the loop\n",
    "target_id = cur.execute(f'select id from targets where name = \"WASP-17\"').fetchall()\n",
    "target_id = target_id[0][0]\n",
    "print(f\"Target ID: {target_id}\")\n",
    "\n",
    "# Insert the reference into the database if needed, and/or get ref ID\n",
    "url = \"https://iopscience.iop.org/article/10.1088/0004-637X/709/1/159\"\n",
    "fname = data_dir + \"Anderson_2010_WASP17.csv\"\n",
    "refnum = cur.execute(f\"select id from data_refs where url='{url}'\").fetchone()\n",
    "if refnum is None:\n",
    "    stmt = f\"insert into data_refs (local_filename, url) values ('{fname}', '{url}')\"\n",
    "    print(stmt)\n",
    "    cur.execute(stmt)\n",
    "    refnum = cur.execute(f\"select id from data_refs where url='{url}'\").fetchone()\n",
    "elif isinstance(refnum, (list, tuple)):\n",
    "    refnum = refnum[0]\n",
    "    \n",
    "print(f\"Refnum: {refnum}\")\n",
    "\n",
    "with open(data_dir + 'Anderson_2010_WASP17.csv', 'r') as f:\n",
    "    freader = csv.reader(f, delimiter = \"\\t\")\n",
    "    instrument = \"CORALIE\"\n",
    "    switch_inst = False\n",
    "    for row in freader:\n",
    "        if row[0][0] == \"#\":\n",
    "            if not switch_inst:\n",
    "                continue\n",
    "            else:\n",
    "                instrument = row[0][1:]\n",
    "                print(f\"Switching to {instrument}\")\n",
    "                continue\n",
    "        else:\n",
    "            # Next time we encounter a # after the header is a new instrument\n",
    "            switch_inst = True    \n",
    "            \n",
    "            # deal with variable whitespace\n",
    "            #data = [x for x in row if x != \"\"]\n",
    "            data = [float(x) for x in row if x != \"\"]\n",
    "        \n",
    "        # Get instrument_id\n",
    "        inst_id = cur.execute(f'select id from instruments where name = \"{instrument}\"').fetchall()\n",
    "        inst_id = inst_id[0][0]\n",
    "        print(f\"Instrument ID: {inst_id}\")\n",
    "        \n",
    "        # Convert to m/s from km/s, offset is from paper\n",
    "        rv = (data[1] + 49.5128)*1000\n",
    "        rv_err = data[2]*1000\n",
    "        # Need to code generalized ref_id retrieval\n",
    "        stmt = (\"insert into radial_velocities (target_id, reference_id, \"\n",
    "                f\"instrument, bjd, rv, rv_err) values ({target_id}, {refnum}, {inst_id},\"\n",
    "                f\"{data[0]+2450000}, {rv}, {rv_err});\")\n",
    "        print(stmt)\n",
    "        #cur.execute(stmt)\n",
    "        \n",
    "conn.commit()\n",
    "cur.close()\n",
    "conn.close()\n"
   ]
  },
  {
   "cell_type": "code",
   "execution_count": 26,
   "id": "266c74ef",
   "metadata": {
    "ExecuteTime": {
     "end_time": "2022-03-09T16:39:07.503111Z",
     "start_time": "2022-03-09T16:39:07.497040Z"
    }
   },
   "outputs": [],
   "source": [
    "# Next one needs to convert HJD to BJD\n",
    "# From https://gist.github.com/StuartLittlefair/4ab7bb8cf21862e250be8cb25f72bb7a\n",
    "# with some minor edits to the coordinate handling\n",
    "from astropy.coordinates import SkyCoord, EarthLocation\n",
    "from astropy import units as u\n",
    "from astropy.time import Time\n",
    "\n",
    "\n",
    "def helio_to_bary(coords, hjd, obs_name):\n",
    "    ra = coords[0].split(\":\")\n",
    "    ra = int(ra[0]) + int(ra[1])/60 + float(ra[2])/3600\n",
    "    dec = coords[1].split(\":\")\n",
    "    if int(dec[0]) < 1:\n",
    "        dec = int(dec[0]) - int(dec[1])/60 - float(dec[2])/3600\n",
    "    else:\n",
    "        dec = int(dec[0]) + int(dec[1])/60 + float(dec[2])/3600\n",
    "    star = SkyCoord(ra=ra*u.hour, dec=dec*u.deg)\n",
    "    print(star)\n",
    "    \n",
    "    helio = Time(hjd, scale='utc', format='jd')\n",
    "    obs = EarthLocation.of_site(obs_name)\n",
    "    ltt = helio.light_travel_time(star, 'heliocentric', location=obs)\n",
    "    print(f\"helio: {helio}\")\n",
    "    print(f\"ltt: {ltt}\")\n",
    "    guess = helio - ltt\n",
    "    # if we assume guess is correct - how far is heliocentric time away from true value?\n",
    "    delta = (guess + guess.light_travel_time(star, 'heliocentric', obs)).jd  - helio.jd\n",
    "    print(f\"delta: {delta}\")\n",
    "    # apply this correction\n",
    "    guess -= delta * u.d\n",
    "    print(delta*u.d)\n",
    "    print(guess.tdb)\n",
    "    \n",
    "    ltt = guess.light_travel_time(star, 'barycentric', obs)\n",
    "    print(f\"bary_ltt: {ltt}\")\n",
    "    return guess.tdb + ltt"
   ]
  },
  {
   "cell_type": "code",
   "execution_count": 69,
   "id": "a9a03c26",
   "metadata": {
    "ExecuteTime": {
     "end_time": "2022-03-02T18:38:59.934718Z",
     "start_time": "2022-03-02T18:38:59.916010Z"
    },
    "scrolled": false
   },
   "outputs": [
    {
     "name": "stdout",
     "output_type": "stream",
     "text": [
      "Target ID: 42\n",
      "Coords: ('15:59:50.9491505016', '-28:03:42.312819096')\n",
      "Refnum: 3\n"
     ]
    },
    {
     "ename": "FileNotFoundError",
     "evalue": "[Errno 2] No such file or directory: 'data/radial_velocity/Bayliss_2010_WASP17.csv'",
     "output_type": "error",
     "traceback": [
      "\u001b[0;31m---------------------------------------------------------------------------\u001b[0m",
      "\u001b[0;31mFileNotFoundError\u001b[0m                         Traceback (most recent call last)",
      "\u001b[0;32m/var/folders/ds/q5jd1xq53l9djq7lcc029d240002hz/T/ipykernel_2532/1923947065.py\u001b[0m in \u001b[0;36m<module>\u001b[0;34m\u001b[0m\n\u001b[1;32m     29\u001b[0m \u001b[0mprint\u001b[0m\u001b[0;34m(\u001b[0m\u001b[0;34mf\"Refnum: {refnum}\"\u001b[0m\u001b[0;34m)\u001b[0m\u001b[0;34m\u001b[0m\u001b[0;34m\u001b[0m\u001b[0m\n\u001b[1;32m     30\u001b[0m \u001b[0;34m\u001b[0m\u001b[0m\n\u001b[0;32m---> 31\u001b[0;31m \u001b[0;32mwith\u001b[0m \u001b[0mopen\u001b[0m\u001b[0;34m(\u001b[0m\u001b[0mdata_dir\u001b[0m \u001b[0;34m+\u001b[0m \u001b[0;34m'Bayliss_2010_WASP17.csv'\u001b[0m\u001b[0;34m,\u001b[0m \u001b[0;34m'r'\u001b[0m\u001b[0;34m)\u001b[0m \u001b[0;32mas\u001b[0m \u001b[0mf\u001b[0m\u001b[0;34m:\u001b[0m\u001b[0;34m\u001b[0m\u001b[0;34m\u001b[0m\u001b[0m\n\u001b[0m\u001b[1;32m     32\u001b[0m     \u001b[0mfreader\u001b[0m \u001b[0;34m=\u001b[0m \u001b[0mcsv\u001b[0m\u001b[0;34m.\u001b[0m\u001b[0mreader\u001b[0m\u001b[0;34m(\u001b[0m\u001b[0mf\u001b[0m\u001b[0;34m,\u001b[0m \u001b[0mdelimiter\u001b[0m \u001b[0;34m=\u001b[0m \u001b[0;34m\"\\t\"\u001b[0m\u001b[0;34m)\u001b[0m\u001b[0;34m\u001b[0m\u001b[0;34m\u001b[0m\u001b[0m\n\u001b[1;32m     33\u001b[0m     \u001b[0minstrument\u001b[0m \u001b[0;34m=\u001b[0m \u001b[0;34m\"MIKE\"\u001b[0m\u001b[0;34m\u001b[0m\u001b[0;34m\u001b[0m\u001b[0m\n",
      "\u001b[0;31mFileNotFoundError\u001b[0m: [Errno 2] No such file or directory: 'data/radial_velocity/Bayliss_2010_WASP17.csv'"
     ]
    }
   ],
   "source": [
    "conn = sql.connect('shel_database.sqlite')\n",
    "cur = conn.cursor()\n",
    "\n",
    "# Single target file so we don't need to do this in the loop\n",
    "target_id = cur.execute(f'select id from targets where name = \"WASP-17\"').fetchall()\n",
    "target_id = target_id[0][0]\n",
    "print(f\"Target ID: {target_id}\")\n",
    "\n",
    "# Get coordinates of target\n",
    "coords = cur.execute(f'select ra, dec from targets where id = {target_id}').fetchone()\n",
    "print(f\"Coords: {coords}\")\n",
    "\n",
    "# Get site name for instrument\n",
    "observatory = cur.execute(f\"select sitename from instruments where id = 5\").fetchone()[0]\n",
    "\n",
    "# Insert the reference into the database if needed, and/or get ref ID\n",
    "url = \"https://iopscience.iop.org/article/10.1088/2041-8205/722/2/L224\"\n",
    "fname = data_dir + \"Bayliss_2010_WASP17.csv\"\n",
    "\n",
    "refnum = cur.execute(f\"select id from data_refs where url='{url}'\").fetchone()\n",
    "if refnum is None:\n",
    "    stmt = f\"insert into data_refs (local_filename, url) values ('{fname}', '{url}')\"\n",
    "    print(stmt)\n",
    "    cur.execute(stmt)\n",
    "    refnum = cur.execute(f\"select id from data_refs where url='{url}'\").fetchone()\n",
    "elif isinstance(refnum, (list, tuple)):\n",
    "    refnum = refnum[0]\n",
    "    \n",
    "print(f\"Refnum: {refnum}\")\n",
    "\n",
    "with open(data_dir + 'Bayliss_2010_WASP17.csv', 'r') as f:\n",
    "    freader = csv.reader(f, delimiter = \"\\t\")\n",
    "    instrument = \"MIKE\"\n",
    "    # Get instrument_id\n",
    "    inst_id = cur.execute(f'select id from instruments where name = \"{instrument}\"').fetchall()\n",
    "    inst_id = inst_id[0][0]\n",
    "    print(f\"Instrument ID: {inst_id}\")\n",
    "\n",
    "    for row in freader:\n",
    "        if row[0][0] == \"#\":\n",
    "            continue\n",
    "\n",
    "        # deal with variable whitespace\n",
    "        #data = [x for x in row if x != \"\"]\n",
    "        data = [float(x) for x in row if x != \"\"]\n",
    "        \n",
    "        # Convert times from HJD to BJD\n",
    "        time_bjd = helio_to_bary(coords, data[0], observatory)\n",
    "        print(data[0] - time_bjd.value)\n",
    "        rv = data[1]\n",
    "        rv_err = data[2]\n",
    "        # Need to code generalized ref_id retrieval\n",
    "        stmt = (\"insert into radial_velocities (target_id, reference_id, \"\n",
    "                f\"instrument, bjd, rv, rv_err) values ({target_id}, {refnum}, {inst_id}, \"\n",
    "                f\"{time_bjd}, {rv}, {rv_err});\")\n",
    "        #cur.execute(stmt)\n",
    "        \n",
    "conn.commit()\n",
    "cur.close()\n",
    "conn.close()"
   ]
  },
  {
   "cell_type": "code",
   "execution_count": 84,
   "id": "ffbf6807",
   "metadata": {
    "ExecuteTime": {
     "end_time": "2022-03-02T21:35:42.866090Z",
     "start_time": "2022-03-02T21:35:42.829274Z"
    }
   },
   "outputs": [
    {
     "name": "stdout",
     "output_type": "stream",
     "text": [
      "Refnum: 4\n",
      "Instrument ID: 4\n",
      "Instrument ID: 4\n",
      "Instrument ID: 4\n",
      "Instrument ID: 4\n",
      "Instrument ID: 4\n",
      "Instrument ID: 4\n",
      "Instrument ID: 4\n",
      "Instrument ID: 4\n",
      "Instrument ID: 4\n",
      "Instrument ID: 4\n",
      "Instrument ID: 4\n",
      "Instrument ID: 4\n",
      "Instrument ID: 4\n",
      "Instrument ID: 4\n",
      "Instrument ID: 4\n",
      "Instrument ID: 4\n",
      "Instrument ID: 4\n",
      "Instrument ID: 4\n",
      "Instrument ID: 4\n",
      "Instrument ID: 4\n",
      "Instrument ID: 4\n",
      "Instrument ID: 4\n",
      "Instrument ID: 4\n",
      "Instrument ID: 4\n",
      "Instrument ID: 4\n",
      "Instrument ID: 4\n",
      "Instrument ID: 4\n",
      "Instrument ID: 4\n",
      "Instrument ID: 4\n",
      "Instrument ID: 4\n",
      "Instrument ID: 4\n",
      "Instrument ID: 4\n",
      "Instrument ID: 4\n",
      "Instrument ID: 4\n",
      "Instrument ID: 4\n",
      "Instrument ID: 4\n",
      "Instrument ID: 4\n",
      "Instrument ID: 4\n",
      "Instrument ID: 4\n",
      "Instrument ID: 4\n",
      "Instrument ID: 4\n",
      "Instrument ID: 4\n",
      "Instrument ID: 4\n",
      "Instrument ID: 4\n",
      "Instrument ID: 4\n",
      "Instrument ID: 4\n",
      "Instrument ID: 4\n",
      "Instrument ID: 4\n",
      "Instrument ID: 4\n",
      "Instrument ID: 3\n",
      "Instrument ID: 3\n",
      "Instrument ID: 3\n",
      "Instrument ID: 3\n",
      "Instrument ID: 3\n",
      "Instrument ID: 3\n",
      "Instrument ID: 3\n",
      "Instrument ID: 3\n",
      "Instrument ID: 3\n",
      "Instrument ID: 3\n",
      "Instrument ID: 3\n",
      "Instrument ID: 3\n",
      "Instrument ID: 3\n",
      "Instrument ID: 3\n",
      "Instrument ID: 3\n",
      "Instrument ID: 3\n"
     ]
    }
   ],
   "source": [
    "# Last one for WASP-17! In BJD, but need to strip \"b\" from \n",
    "# target names and filter out instruments we don't want\n",
    "\n",
    "# I can only find the RV offset in the paper for WASP-17, not 6 or 18, so\n",
    "# I'm only going to load 17 for now.\n",
    "\n",
    "conn = sql.connect('shel_database.sqlite')\n",
    "cur = conn.cursor()\n",
    "\n",
    "\n",
    "# Insert the reference into the database if needed, and/or get ref ID\n",
    "url = \"https://www.aanda.org/articles/aa/full_html/2010/16/aa14525-10/aa14525-10.html\"\n",
    "fname = data_dir + \"J_A+A_524_A25/rvdata.dat\"\n",
    "instruments = {\"C1\": \"CORALIE\", \"H1\": \"HARPS\"}\n",
    "\n",
    "refnum = cur.execute(f\"select id from data_refs where url='{url}'\").fetchone()\n",
    "if refnum is None:\n",
    "    stmt = f\"insert into data_refs (local_filename, url) values ('{fname}', '{url}')\"\n",
    "    cur.execute(stmt)\n",
    "    refnum = cur.execute(f\"select id from data_refs where url='{url}'\").fetchone()[0]\n",
    "elif isinstance(refnum, (list, tuple)):\n",
    "    refnum = refnum[0]\n",
    "    \n",
    "print(f\"Refnum: {refnum}\")\n",
    "\n",
    "with open(fname, 'r') as f:\n",
    "    freader = csv.reader(f, delimiter = ' ')\n",
    "    for row in freader:\n",
    "        if row[0][0] == \"#\":\n",
    "            continue\n",
    "            \n",
    "        # deal with variable whitespace\n",
    "        data = [x for x in row if x != \"\"]\n",
    "        \n",
    "        # get target ID\n",
    "        target_id = cur.execute(f'select id from targets where name = \"{data[0][:-1]}\"').fetchall()\n",
    "        if target_id == []:\n",
    "            continue\n",
    "            \n",
    "        target_id = target_id[0][0]\n",
    "        # Skipping all but WASP-17 for now\n",
    "        if target_id != 42:\n",
    "            continue\n",
    "        \n",
    "        # Get instrument_id. Don't care about Rossiter-McLaughlin effect measurements\n",
    "        if data[1] in instruments:\n",
    "            instrument = instruments[data[1]]\n",
    "        else:\n",
    "            continue\n",
    "            \n",
    "        inst_id = cur.execute(f'select id from instruments where name = \"{instrument}\"').fetchall()\n",
    "        inst_id = inst_id[0][0]\n",
    "        print(f\"Instrument ID: {inst_id}\")\n",
    "        \n",
    "        # Convert to m/s from km/s, offset is from paper\n",
    "        if inst_id == 4:\n",
    "            offset = -49.51367\n",
    "        elif inst_id == 3:\n",
    "            offset = -49.49168\n",
    "        else:\n",
    "            raise ValueError(\"What instrument is this??\")\n",
    "            \n",
    "        rv = (float(data[3]) - offset)*1000\n",
    "        rv_err = float(data[4])*1000\n",
    "        \n",
    "        stmt = (\"insert into radial_velocities (target_id, reference_id, \"\n",
    "                f\"instrument, bjd, rv, rv_err) values ({target_id}, {refnum}, \"\n",
    "                f\"{inst_id}, {data[2]}, {rv}, {rv_err});\")\n",
    "        print(stmt)\n",
    "        #cur.execute(stmt)\n",
    "        \n",
    "conn.commit()\n",
    "cur.close()\n",
    "conn.close()"
   ]
  },
  {
   "cell_type": "code",
   "execution_count": 29,
   "id": "450a547f",
   "metadata": {
    "ExecuteTime": {
     "end_time": "2022-03-09T16:46:39.694894Z",
     "start_time": "2022-03-09T16:46:39.664038Z"
    }
   },
   "outputs": [
    {
     "name": "stdout",
     "output_type": "stream",
     "text": [
      "<SkyCoord (ICRS): (ra, dec) in deg\n",
      "    (239.96228813, -0.06175356)>\n",
      "helio: 2454336.7382708\n",
      "ltt: -0.0002685892175338887\n",
      "delta: -2.468004822731018e-08\n",
      "-2.468004822731018e-08 d\n",
      "2454336.739293844\n",
      "bary_ltt: -0.0002936289585580872\n"
     ]
    },
    {
     "data": {
      "text/plain": [
       "<Time object: scale='tdb' format='jd' value=2454336.7390002147>"
      ]
     },
     "execution_count": 29,
     "metadata": {},
     "output_type": "execute_result"
    }
   ],
   "source": [
    "helio_to_bary(('15:59:50.9491505016', '00:03:42.312819096'), 2454336.7382708, 'Keck Observatory')"
   ]
  },
  {
   "cell_type": "code",
   "execution_count": 28,
   "id": "69c08219",
   "metadata": {
    "ExecuteTime": {
     "end_time": "2022-03-09T16:46:27.540870Z",
     "start_time": "2022-03-09T16:46:27.537703Z"
    }
   },
   "outputs": [
    {
     "data": {
      "text/plain": [
       "-0.0007605343125760555"
      ]
     },
     "execution_count": 28,
     "metadata": {},
     "output_type": "execute_result"
    }
   ],
   "source": [
    "2454336.7382708-2454336.7390313344\n",
    "\n",
    "\n",
    "2454336.738729191\n"
   ]
  },
  {
   "cell_type": "code",
   "execution_count": 30,
   "id": "3e526321",
   "metadata": {
    "ExecuteTime": {
     "end_time": "2022-03-09T16:46:50.866355Z",
     "start_time": "2022-03-09T16:46:50.862985Z"
    }
   },
   "outputs": [
    {
     "data": {
      "text/plain": [
       "0.0007294146344065666"
      ]
     },
     "execution_count": 30,
     "metadata": {},
     "output_type": "execute_result"
    }
   ],
   "source": [
    "2454336.7390002147-2454336.7382708"
   ]
  },
  {
   "cell_type": "code",
   "execution_count": 31,
   "id": "171fc630",
   "metadata": {
    "ExecuteTime": {
     "end_time": "2022-03-09T16:51:29.377905Z",
     "start_time": "2022-03-09T16:51:29.374791Z"
    }
   },
   "outputs": [
    {
     "data": {
      "text/plain": [
       "-3.111967816948891e-05"
      ]
     },
     "execution_count": 31,
     "metadata": {},
     "output_type": "execute_result"
    }
   ],
   "source": [
    "0.0007294146344065666-0.0007605343125760555"
   ]
  },
  {
   "cell_type": "code",
   "execution_count": 32,
   "id": "72005e84",
   "metadata": {
    "ExecuteTime": {
     "end_time": "2022-03-09T16:51:41.961859Z",
     "start_time": "2022-03-09T16:51:41.958994Z"
    }
   },
   "outputs": [
    {
     "data": {
      "text/plain": [
       "-2.6887401938438416"
      ]
     },
     "execution_count": 32,
     "metadata": {},
     "output_type": "execute_result"
    }
   ],
   "source": [
    "-3.111967816948891e-05*24*3600"
   ]
  },
  {
   "cell_type": "code",
   "execution_count": null,
   "id": "1263aaa5",
   "metadata": {},
   "outputs": [],
   "source": []
  }
 ],
 "metadata": {
  "kernelspec": {
   "display_name": "Python 3 (ipykernel)",
   "language": "python",
   "name": "python3"
  },
  "language_info": {
   "codemirror_mode": {
    "name": "ipython",
    "version": 3
   },
   "file_extension": ".py",
   "mimetype": "text/x-python",
   "name": "python",
   "nbconvert_exporter": "python",
   "pygments_lexer": "ipython3",
   "version": "3.9.7"
  }
 },
 "nbformat": 4,
 "nbformat_minor": 5
}
