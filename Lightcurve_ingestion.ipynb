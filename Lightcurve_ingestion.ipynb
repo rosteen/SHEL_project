{
 "cells": [
  {
   "cell_type": "markdown",
   "id": "d077bd83",
   "metadata": {},
   "source": [
    "## Load non-TESS photometry into the database"
   ]
  },
  {
   "cell_type": "code",
   "execution_count": null,
   "id": "49ff27c0",
   "metadata": {},
   "outputs": [],
   "source": [
    "import csv\n",
    "import juliet\n",
    "import sqlite3\n",
    "from astropy.coordinates import EarthLocation"
   ]
  },
  {
   "cell_type": "markdown",
   "id": "a0a8e6b0",
   "metadata": {},
   "source": [
    "### Adding LC instruments to the database"
   ]
  },
  {
   "cell_type": "code",
   "execution_count": null,
   "id": "f5e6b76d",
   "metadata": {},
   "outputs": [],
   "source": [
    "conn = sqlite3.connect(\"shel_database.sqlite\")\n",
    "cur = conn.cursor()"
   ]
  },
  {
   "cell_type": "code",
   "execution_count": null,
   "id": "cedd0896",
   "metadata": {},
   "outputs": [],
   "source": [
    "cur.execute(\"select * from instruments\").fetchall()"
   ]
  },
  {
   "cell_type": "code",
   "execution_count": null,
   "id": "0d6566df",
   "metadata": {},
   "outputs": [],
   "source": [
    "EarthLocation.get_site_names()"
   ]
  },
  {
   "cell_type": "code",
   "execution_count": null,
   "id": "d6b1e692",
   "metadata": {},
   "outputs": [],
   "source": [
    "stmt = \"insert into instruments (name, sitename) values ('FLWO', 'Whipple Observatory')\"\n",
    "cur.execute(stmt)\n",
    "\n",
    "stmt = \"insert into instruments (name, sitename) values ('Lick', 'Lick Observatory')\"\n",
    "cur.execute(stmt)\n",
    "\n",
    "stmt = \"insert into instruments (name, sitename) values ('Wise', 'Wise Observatory')\"\n",
    "cur.execute(stmt)\n",
    "\n",
    "stmt = \"insert into instruments (name, sitename) values ('Xinglong 60 cm Telescope', 'Xinglong Station, NAOC')\"\n",
    "cur.execute(stmt)\n",
    "\n",
    "stmt = \"insert into instruments (name, sitename) values ('Schmidt Telescope', 'Xinglong Station, NAOC')\"\n",
    "cur.execute(stmt)\n",
    "\n",
    "stmt = \"insert into instruments (name, sitename) values ('Kuiper', 'Steward Observatory')\"\n",
    "cur.execute(stmt)\n",
    "\n",
    "stmt = \"insert into instruments (name, sitename) values ('NOT', 'Roque de los Muchachos')\"\n",
    "cur.execute(stmt)\n",
    "\n",
    "stmt = \"insert into instruments (name, sitename) values ('CA', 'Calar Alto Astronomical Observatory')\"\n",
    "cur.execute(stmt)\n",
    "\n",
    "stmt = \"insert into instruments (name, sitename) values ('Danish 1.5m', 'La Silla Observatory')\"\n",
    "cur.execute(stmt)\n",
    "\n",
    "stmt = \"insert into instruments (name, sitename) values ('SMARTS', 'Cerro Tololo')\"\n",
    "cur.execute(stmt)\n",
    "\n",
    "conn.commit()"
   ]
  },
  {
   "cell_type": "code",
   "execution_count": null,
   "id": "cfd6605e",
   "metadata": {},
   "outputs": [],
   "source": [
    "stmt = \"insert into instruments (name, sitename) values ('', '')\n",
    "\n",
    "stmt = \"insert into instruments (name, sitename) values ('', '')"
   ]
  },
  {
   "cell_type": "code",
   "execution_count": null,
   "id": "35bafd49",
   "metadata": {},
   "outputs": [],
   "source": [
    "# Figuring out which telescopes took which data will require comparing time stamps\n",
    "\n",
    "url = \"https://www.aanda.org/articles/aa/full_html/2020/04/aa36279-19/aa36279-19.html\"\n",
    "\n",
    "fname = \"J_A+A_636_A98/table2.dat\""
   ]
  },
  {
   "cell_type": "raw",
   "id": "72a280ea",
   "metadata": {
    "ExecuteTime": {
     "end_time": "2022-04-13T17:20:14.353724Z",
     "start_time": "2022-04-13T17:20:13.574154Z"
    }
   },
   "source": [
    "# Done\n",
    "\n",
    "url = \"https://iopscience.iop.org/article/10.3847/2041-8213/ab5c16#apjlab5c16t1\"\n",
    "fname = \"Yee_2020_WASP-12.dat\"\n",
    "instrument_id = cur.execute(\"select id from instruments where name = 'FLWO'\").fetchone()[0]\n",
    "target_id = cur.execute(\"select id from targets where name = 'WASP-12'\").fetchone()[0]\n",
    "\n",
    "refnum = cur.execute(f\"select id from data_refs where url='{url}'\").fetchone()\n",
    "if refnum is None:\n",
    "    stmt = f\"insert into data_refs (local_filename, url) values ('{fname}', '{url}')\"\n",
    "    print(stmt)\n",
    "    #cur.execute(stmt)\n",
    "    refnum = cur.execute(f\"select id from data_refs where url='{url}'\").fetchone()\n",
    "elif isinstance(refnum, (list, tuple)):\n",
    "    refnum = refnum[0]\n",
    "    \n",
    "print(instrument_id, target_id, refnum)\n",
    "\n",
    "with open(f\"data/light_curves/{fname}\", \"r\") as f:\n",
    "    freader = csv.reader(f, delimiter = \" \")\n",
    "    for row in freader:\n",
    "        if row[0][0] == \"#\":\n",
    "            continue\n",
    "        \n",
    "        data = [x for x in row if x != \"\"]\n",
    "        #print(data)\n",
    "        # Already in BJD-TDB and normalized flux, deleted the non-FLWO data\n",
    "        bjd = data[0]\n",
    "        flux = data[1]\n",
    "        flux_err = data[2]\n",
    "    \n",
    "        stmt = (\"insert into light_curves (target_id, reference_id, instrument, bjd, flux, flux_err) \"\n",
    "                f\"values ({target_id}, {refnum}, {instrument_id}, {bjd}, {flux}, {flux_err})\")\n",
    "        #print(stmt)\n",
    "        cur.execute(stmt)\n",
    "    \n",
    "conn.commit()"
   ]
  },
  {
   "cell_type": "raw",
   "id": "08af8182",
   "metadata": {
    "ExecuteTime": {
     "end_time": "2022-04-13T17:29:03.586040Z",
     "start_time": "2022-04-13T17:29:03.581338Z"
    }
   },
   "source": [
    "# Done\n",
    "\n",
    "stmt = \"insert into instruments (name) values ('ROZ')\"\n",
    "cur.execute(stmt)\n",
    "\n",
    "stmt = \"insert into instruments (name) values ('BOAO')\"\n",
    "cur.execute(stmt)\n",
    "\n",
    "stmt = \"insert into instruments (name) values ('OSN')\"\n",
    "cur.execute(stmt)\n",
    "\n",
    "stmt = \"insert into instruments (name) values ('TRE')\"\n",
    "cur.execute(stmt)\n",
    "\n",
    "stmt = \"insert into instruments (name) values ('PIW')\"\n",
    "cur.execute(stmt)\n",
    "\n",
    "conn.commit()"
   ]
  },
  {
   "cell_type": "raw",
   "id": "57c16dad",
   "metadata": {
    "ExecuteTime": {
     "end_time": "2022-04-13T17:36:36.418504Z",
     "start_time": "2022-04-13T17:36:36.189843Z"
    }
   },
   "source": [
    "# Done\n",
    "\n",
    "fname = \"Maciejewski_2016_WASP12.dat\"\n",
    "url = \"https://www.aanda.org/articles/aa/full_html/2016/04/aa28312-16/aa28312-16.html\"\n",
    "\n",
    "target_id = cur.execute(\"select id from targets where name = 'WASP-12'\").fetchone()[0]\n",
    "\n",
    "refnum = cur.execute(f\"select id from data_refs where url='{url}'\").fetchone()\n",
    "if refnum is None:\n",
    "    stmt = f\"insert into data_refs (local_filename, url) values ('{fname}', '{url}')\"\n",
    "    print(stmt)\n",
    "    cur.execute(stmt)\n",
    "    refnum = cur.execute(f\"select id from data_refs where url='{url}'\").fetchone()[0]\n",
    "elif isinstance(refnum, (list, tuple)):\n",
    "    refnum = refnum[0]\n",
    "    \n",
    "print(target_id, refnum)\n",
    "\n",
    "with open(f\"data/light_curves/{fname}\", \"r\") as f:\n",
    "    freader = csv.reader(f, delimiter = \" \")\n",
    "    for row in freader:\n",
    "        if row[0][0] == \"#\":\n",
    "            continue\n",
    "        \n",
    "        data = [x for x in row if x != \"\"]\n",
    "        \n",
    "                #print(data)\n",
    "        # Already in BJD-TDB and normalized flux, deleted the non-FLWO data\n",
    "        bjd = float(data[0])+2450000\n",
    "        flux = data[1]\n",
    "        flux_err = data[2]\n",
    "        inst = data[3]\n",
    "        \n",
    "        instrument_id = cur.execute(f\"select id from instruments where name = '{inst}'\").fetchone()[0]\n",
    "    \n",
    "        stmt = (\"insert into light_curves (target_id, reference_id, instrument, bjd, flux, flux_err) \"\n",
    "                f\"values ({target_id}, {refnum}, {instrument_id}, {bjd}, {flux}, {flux_err})\")\n",
    "        #print(stmt)\n",
    "        cur.execute(stmt)\n",
    "        \n",
    "conn.commit()"
   ]
  },
  {
   "cell_type": "raw",
   "id": "bad2c989",
   "metadata": {
    "ExecuteTime": {
     "end_time": "2022-04-20T16:50:13.704635Z",
     "start_time": "2022-04-20T16:50:09.744353Z"
    }
   },
   "source": [
    "# Done\n",
    "\n",
    "from utils import helio_to_bary\n",
    "\n",
    "fname = \"Anderson_2010_WASP17.csv\"\n",
    "url = \"https://iopscience.iop.org/article/10.1088/0004-637X/709/1/159\"\n",
    "\n",
    "target_id = cur.execute(\"select id from targets where name = 'WASP-17'\").fetchone()[0]\n",
    "\n",
    "refnum = cur.execute(f\"select id from data_refs where url='{url}'\").fetchone()\n",
    "if refnum is None:\n",
    "    stmt = f\"insert into data_refs (local_filename, url) values ('{fname}', '{url}')\"\n",
    "    print(stmt)\n",
    "    cur.execute(stmt)\n",
    "    refnum = cur.execute(f\"select id from data_refs where url='{url}'\").fetchone()[0]\n",
    "elif isinstance(refnum, (list, tuple)):\n",
    "    refnum = refnum[0]\n",
    "\n",
    "instrument_id = cur.execute(\"select id from instruments where name = 'EulerCAM'\").fetchone()[0]    \n",
    "\n",
    "print(target_id, instrument_id, refnum)\n",
    "\n",
    "with open(f\"data/light_curves/{fname}\", \"r\") as f:\n",
    "    freader = csv.reader(f, delimiter = \" \")\n",
    "    for row in freader:\n",
    "        if row[0][0] == \"#\":\n",
    "            continue\n",
    "        \n",
    "        data = [x for x in row if x != \"\"]\n",
    "        \n",
    "                #print(data)\n",
    "        # Time is in HJD\n",
    "        bjd = helio_to_bary(('15:59:50.939', '-28:03:42.46'), float(row[0]), 'La Silla Observatory')\n",
    "        flux = data[1]\n",
    "        flux_err = data[2]\n",
    "        \n",
    "        \n",
    "    \n",
    "        stmt = (\"insert into light_curves (target_id, reference_id, instrument, bjd, flux, flux_err) \"\n",
    "                f\"values ({target_id}, {refnum}, {instrument_id}, {bjd}, {flux}, {flux_err})\")\n",
    "        print(stmt)\n",
    "        cur.execute(stmt)\n",
    "        \n",
    "conn.commit()"
   ]
  },
  {
   "cell_type": "code",
   "execution_count": null,
   "id": "b266d85f",
   "metadata": {},
   "outputs": [],
   "source": [
    "cur.execute('select * from data_refs where id = 2').fetchall()"
   ]
  },
  {
   "cell_type": "code",
   "execution_count": null,
   "id": "1d4c315a",
   "metadata": {},
   "outputs": [],
   "source": [
    "from utils import ingest_lc_data"
   ]
  },
  {
   "cell_type": "raw",
   "id": "7c3a9971",
   "metadata": {
    "ExecuteTime": {
     "end_time": "2022-04-22T19:52:19.964689Z",
     "start_time": "2022-04-22T19:52:19.877903Z"
    }
   },
   "source": [
    "#Done \n",
    "\n",
    "ingest_lc_data(\"J_A+A_636_A98/table2.dat\", \n",
    "               \"https://www.aanda.org/articles/aa/full_html/2020/04/aa36279-19/aa36279-19.html\", \n",
    "               1, 2, 3, target_col=0, inst_list=['SMARTS', 'Danish1.5m'], \n",
    "               delimiter=\" \")"
   ]
  },
  {
   "cell_type": "raw",
   "id": "d6552990",
   "metadata": {
    "ExecuteTime": {
     "end_time": "2022-04-22T20:03:24.334179Z",
     "start_time": "2022-04-22T20:03:24.313856Z"
    }
   },
   "source": [
    "#Done\n",
    "ingest_lc_data(\"Table3_mr.dat\", \n",
    "               \"https://academic.oup.com/mnras/article/459/1/789/2608827\", \n",
    "               2, 3, 4, target_col=0, instrument=\"Kuiper\", \n",
    "               delimiter=\" \")"
   ]
  },
  {
   "cell_type": "raw",
   "id": "78b91320",
   "metadata": {
    "ExecuteTime": {
     "end_time": "2022-04-22T20:45:31.330331Z",
     "start_time": "2022-04-22T20:45:26.249248Z"
    }
   },
   "source": [
    "#Done\n",
    "ingest_lc_data(\"Turner_2017_multiple/OnlineTables/Turner2017_Table2_LightCurves.dat\", \n",
    "               \"https://academic.oup.com/mnras/article/472/4/3871/4098503\", \n",
    "               3, 4, 5, target_col=0, instrument=\"Kuiper\", time_type=\"HJD\",\n",
    "               delimiter=\" \")"
   ]
  },
  {
   "cell_type": "raw",
   "id": "1555d34f",
   "metadata": {
    "ExecuteTime": {
     "end_time": "2022-05-09T20:17:55.060475Z",
     "start_time": "2022-05-09T20:17:55.051279Z"
    }
   },
   "source": [
    "# Done\n",
    "ingest_lc_data(\"J_A+A_501_785/fts.dat\", \n",
    "               \"https://www.aanda.org/articles/aa/full_html/2009/26/aa11749-09/aa11749-09.html\", \n",
    "               0, 1, 2, target=\"WASP-6\", instrument=\"FTS\", time_type=\"BJD-TDB\",\n",
    "               delimiter=\" \")"
   ]
  },
  {
   "cell_type": "raw",
   "id": "e9486315",
   "metadata": {
    "ExecuteTime": {
     "end_time": "2022-05-09T20:18:26.950930Z",
     "start_time": "2022-05-09T20:18:26.892300Z"
    }
   },
   "source": [
    "# Done\n",
    "ingest_lc_data(\"J_A+A_501_785/rise1.dat\", \n",
    "               \"https://www.aanda.org/articles/aa/full_html/2009/26/aa11749-09/aa11749-09.html\", \n",
    "               0, 1, 2, target=\"WASP-6\", instrument=\"LT-RISE\", time_type=\"BJD-TDB\",\n",
    "               delimiter=\" \")"
   ]
  },
  {
   "cell_type": "raw",
   "id": "62e7ff32",
   "metadata": {
    "ExecuteTime": {
     "end_time": "2022-05-09T20:18:44.106160Z",
     "start_time": "2022-05-09T20:18:44.065750Z"
    }
   },
   "source": [
    "# Done\n",
    "ingest_lc_data(\"J_A+A_501_785/rise2.dat\", \n",
    "               \"https://www.aanda.org/articles/aa/full_html/2009/26/aa11749-09/aa11749-09.html\", \n",
    "               0, 1, 2, target=\"WASP-6\", instrument=\"LT-RISE\", time_type=\"BJD-TDB\",\n",
    "               delimiter=\" \")"
   ]
  },
  {
   "cell_type": "raw",
   "id": "77ed2e78",
   "metadata": {
    "ExecuteTime": {
     "end_time": "2022-05-10T01:52:47.951760Z",
     "start_time": "2022-05-10T01:52:45.692415Z"
    }
   },
   "source": [
    "# Done\n",
    "ingest_lc_data(\"J_A+A_531_A60/phot.dat\", \n",
    "               \"https://www.aanda.org/articles/aa/full_html/2011/07/aa16208-10/aa16208-10.html\", \n",
    "               0, 1, 2, target=\"WASP-31\", inst_col=3, time_type=\"JD\",\n",
    "               delimiter=\" \")"
   ]
  },
  {
   "cell_type": "raw",
   "id": "16e2b9a7",
   "metadata": {
    "ExecuteTime": {
     "end_time": "2022-05-10T15:52:41.062289Z",
     "start_time": "2022-05-10T15:52:39.315757Z"
    }
   },
   "source": [
    "# Done\n",
    "ingest_lc_data(\"Faedi_2011_WASP39_euler.dat\", \n",
    "               \"https://www.aanda.org/articles/aa/full_html/2011/07/aa16671-11/aa16671-11.html\", \n",
    "               0, 1, 2, target=\"WASP-39\", instrument=\"EulerCAM\", time_type=\"HJD\",\n",
    "               delimiter=\" \", data_type=\"mag\")"
   ]
  },
  {
   "cell_type": "raw",
   "id": "9bdce47c",
   "metadata": {
    "ExecuteTime": {
     "end_time": "2022-05-10T16:01:16.357323Z",
     "start_time": "2022-05-10T16:01:11.557206Z"
    }
   },
   "source": [
    "# Done\n",
    "ingest_lc_data(\"Faedi_2011_WASP39_ftn.dat\", \n",
    "               \"https://www.aanda.org/articles/aa/full_html/2011/07/aa16671-11/aa16671-11.html\", \n",
    "               0, 1, 2, target=\"WASP-39\", instrument=\"FTN\", time_type=\"HJD\",\n",
    "               delimiter=\" \", data_type=\"mag\")"
   ]
  },
  {
   "cell_type": "code",
   "execution_count": null,
   "id": "9af4345c",
   "metadata": {},
   "outputs": [],
   "source": [
    "ingest_lc_data(\"Jiang_2016_WASP43.dat\", \n",
    "               \"https://www.aanda.org/articles/aa/full_html/2011/07/aa16671-11/aa16671-11.html\", \n",
    "               0, 1, 2, target=\"WASP-39\", instrument=\"FTN\", time_type=\"HJD\",\n",
    "               delimiter=\" \", data_type=\"mag\", debug=True)"
   ]
  },
  {
   "cell_type": "raw",
   "id": "ccea6977",
   "metadata": {
    "ExecuteTime": {
     "end_time": "2022-05-10T17:02:36.192978Z",
     "start_time": "2022-05-10T17:02:36.053871Z"
    }
   },
   "source": [
    "# Done\n",
    "ingest_lc_data(\"J_A+A_542_A4/euler.dat\", \n",
    "               \"https://www.aanda.org/articles/aa/full_html/2012/06/aa18817-12/aa18817-12.html\", \n",
    "               1, 2, 3, target=\"WASP-43\", instrument=\"EulerCAM\", time_type=\"BJD-UTC\",\n",
    "               delimiter=\" \")"
   ]
  },
  {
   "cell_type": "raw",
   "id": "4d40aeaf",
   "metadata": {
    "ExecuteTime": {
     "end_time": "2022-05-10T17:05:39.492995Z",
     "start_time": "2022-05-10T17:02:43.658040Z"
    }
   },
   "source": [
    "# Done\n",
    "ingest_lc_data(\"J_A+A_542_A4/trappist.dat\", \n",
    "               \"https://www.aanda.org/articles/aa/full_html/2012/06/aa18817-12/aa18817-12.html\", \n",
    "               1, 2, 3, target=\"WASP-43\", instrument=\"TRAPPIST\", time_type=\"HJD\",\n",
    "               delimiter=\" \")"
   ]
  },
  {
   "cell_type": "raw",
   "id": "299833bf",
   "metadata": {
    "ExecuteTime": {
     "end_time": "2022-05-10T17:45:47.716230Z",
     "start_time": "2022-05-10T17:45:47.707077Z"
    }
   },
   "source": [
    "# Done\n",
    "ingest_lc_data(\"J_A+A_600_L11/wlc.dat\", \n",
    "               \"https://www.aanda.org/articles/aa/full_html/2017/04/aa30736-17/aa30736-17.html\", \n",
    "               0, 1, 2, target=\"WASP-52\", instrument=\"OSIRIS\", time_type=\"BJD-TDB\",\n",
    "               delimiter=\"|\")"
   ]
  },
  {
   "cell_type": "raw",
   "id": "60e74d1d",
   "metadata": {
    "ExecuteTime": {
     "end_time": "2022-05-10T19:35:55.438155Z",
     "start_time": "2022-05-10T19:35:49.928262Z"
    }
   },
   "source": [
    "# Done\n",
    "ingest_lc_data(\"J_A+A_547_A61/phot.dat\", \n",
    "               \"https://www.aanda.org/articles/aa/full_html/2012/11/aa19731-12/aa19731-12.html\", \n",
    "               0, 1, 2, target_col=3, instrument=\"TRAPPIST\", time_type=\"HJD\",\n",
    "               delimiter=\" \", data_type=\"mag\")"
   ]
  },
  {
   "cell_type": "raw",
   "id": "df90ea64",
   "metadata": {
    "ExecuteTime": {
     "end_time": "2022-05-10T20:06:55.638231Z",
     "start_time": "2022-05-10T20:06:55.469328Z"
    }
   },
   "source": [
    "# Done\n",
    "ingest_lc_data(\"J_A+A_585_A126/fig1a.dat\", \n",
    "               \"https://www.aanda.org/articles/aa/full_html/2016/01/aa27276-15/aa27276-15.html\", \n",
    "               0, 1, 2, instrument=\"TRAPPIST\", target=\"WASP-76\", delimiter=\" \",\n",
    "               time_type=\"BJD-TDB\", time_offset=2450000, data_type=\"mag\")"
   ]
  },
  {
   "cell_type": "raw",
   "id": "7bf5b683",
   "metadata": {
    "ExecuteTime": {
     "end_time": "2022-05-10T20:07:26.180395Z",
     "start_time": "2022-05-10T20:07:26.069835Z"
    }
   },
   "source": [
    "# Done\n",
    "ingest_lc_data(\"J_A+A_585_A126/fig1b.dat\", \n",
    "               \"https://www.aanda.org/articles/aa/full_html/2016/01/aa27276-15/aa27276-15.html\", \n",
    "               0, 1, 2, instrument=\"TRAPPIST\", target=\"WASP-76\", delimiter=\" \",\n",
    "               time_type=\"BJD-TDB\", time_offset=2450000, data_type=\"mag\")"
   ]
  },
  {
   "cell_type": "raw",
   "id": "43fd639e",
   "metadata": {
    "ExecuteTime": {
     "end_time": "2022-05-10T20:08:08.520400Z",
     "start_time": "2022-05-10T20:08:08.461366Z"
    }
   },
   "source": [
    "# Done\n",
    "ingest_lc_data(\"J_A+A_585_A126/fig1c.dat\", \n",
    "               \"https://www.aanda.org/articles/aa/full_html/2016/01/aa27276-15/aa27276-15.html\", \n",
    "               0, 1, 2, instrument=\"EulerCAM\", target=\"WASP-76\", delimiter=\" \",\n",
    "               time_type=\"BJD-TDB\", time_offset=2450000, data_type=\"mag\")"
   ]
  },
  {
   "cell_type": "raw",
   "id": "96cc0dae",
   "metadata": {
    "ExecuteTime": {
     "end_time": "2022-05-10T20:08:46.358502Z",
     "start_time": "2022-05-10T20:08:46.272190Z"
    }
   },
   "source": [
    "# Done\n",
    "ingest_lc_data(\"J_A+A_585_A126/fig1d.dat\", \n",
    "               \"https://www.aanda.org/articles/aa/full_html/2016/01/aa27276-15/aa27276-15.html\", \n",
    "               0, 1, 2, instrument=\"TRAPPIST\", target=\"WASP-76\", delimiter=\" \",\n",
    "               time_type=\"BJD-TDB\", time_offset=2450000, data_type=\"mag\")"
   ]
  },
  {
   "cell_type": "raw",
   "id": "c4f8e1dc",
   "metadata": {
    "ExecuteTime": {
     "end_time": "2022-05-10T20:09:03.082308Z",
     "start_time": "2022-05-10T20:09:02.932516Z"
    }
   },
   "source": [
    "# Done\n",
    "ingest_lc_data(\"J_A+A_585_A126/fig1e.dat\", \n",
    "               \"https://www.aanda.org/articles/aa/full_html/2016/01/aa27276-15/aa27276-15.html\", \n",
    "               0, 1, 2, instrument=\"TRAPPIST\", target=\"WASP-76\", delimiter=\" \",\n",
    "               time_type=\"BJD-TDB\", time_offset=2450000, data_type=\"mag\")"
   ]
  },
  {
   "cell_type": "raw",
   "id": "cddfb587",
   "metadata": {
    "ExecuteTime": {
     "end_time": "2022-05-10T20:30:44.484287Z",
     "start_time": "2022-05-10T20:30:41.951837Z"
    }
   },
   "source": [
    "# Done\n",
    "ingest_lc_data(\"J_A+A_552_A2/euleric.dat\", \n",
    "               \"https://www.aanda.org/articles/aa/full_html/2013/04/aa20924-12/aa20924-12.html\", \n",
    "               0, 1, 2, instrument=\"EulerCAM\", target=\"WASP-19\", delimiter=\" \",\n",
    "               time_type=\"HJD\", time_offset=2450000)"
   ]
  },
  {
   "cell_type": "raw",
   "id": "3709f0b3",
   "metadata": {
    "ExecuteTime": {
     "end_time": "2022-05-10T20:30:59.052660Z",
     "start_time": "2022-05-10T20:30:52.671713Z"
    }
   },
   "source": [
    "# Done\n",
    "ingest_lc_data(\"J_A+A_552_A2/eulerr.dat\", \n",
    "               \"https://www.aanda.org/articles/aa/full_html/2013/04/aa20924-12/aa20924-12.html\", \n",
    "               0, 1, 2, instrument=\"EulerCAM\", target=\"WASP-19\", delimiter=\" \",\n",
    "               time_type=\"HJD\", time_offset=2450000)"
   ]
  },
  {
   "cell_type": "raw",
   "id": "2d3182c8",
   "metadata": {
    "ExecuteTime": {
     "end_time": "2022-05-10T20:33:48.219268Z",
     "start_time": "2022-05-10T20:32:59.358415Z"
    }
   },
   "source": [
    "# Done\n",
    "ingest_lc_data(\"J_A+A_552_A2/trapiz.dat\", \n",
    "               \"https://www.aanda.org/articles/aa/full_html/2013/04/aa20924-12/aa20924-12.html\", \n",
    "               0, 1, 2, instrument=\"TRAPPIST\", target=\"WASP-19\", delimiter=\" \",\n",
    "               time_type=\"HJD\", time_offset=2450000)"
   ]
  },
  {
   "cell_type": "raw",
   "id": "df25252d",
   "metadata": {
    "ExecuteTime": {
     "end_time": "2022-05-11T14:55:57.850042Z",
     "start_time": "2022-05-11T14:55:57.403978Z"
    }
   },
   "source": [
    "# Done\n",
    "ingest_lc_data(\"J_MNRAS_445_1114/table4.dat\", \n",
    "               \"https://academic.oup.com/mnras/article/445/2/1114/1391778\", \n",
    "               4, 5, 6, inst_col=2, target_col=1, delimiter=\" \",\n",
    "               time_type=\"BJD-UTC\", time_offset=2450000)"
   ]
  },
  {
   "cell_type": "raw",
   "id": "23dc5f41",
   "metadata": {
    "ExecuteTime": {
     "end_time": "2022-05-11T15:02:26.755791Z",
     "start_time": "2022-05-11T15:02:26.684733Z"
    }
   },
   "source": [
    "# Done\n",
    "ingest_lc_data(\"J_MNRAS_426_1338/wasp17.dat\", \n",
    "               \"https://academic.oup.com/mnras/article/426/2/1338/974523\", \n",
    "               0, 1, 2, instrument=\"Danish1.5m\", target=\"WASP-17\", delimiter=\" \",\n",
    "               time_type=\"BJD-TDB\", time_offset=0, data_type=\"mag\")"
   ]
  },
  {
   "cell_type": "raw",
   "id": "e5599ac0",
   "metadata": {
    "ExecuteTime": {
     "end_time": "2022-05-11T15:06:01.668929Z",
     "start_time": "2022-05-11T15:06:01.657239Z"
    }
   },
   "source": [
    "# Done\n",
    "ingest_lc_data(\"J_A+A_641_A158/gtcwlcn1.dat\", \n",
    "               \"https://www.aanda.org/articles/aa/full_html/2020/09/aa38161-20/aa38161-20.html\", \n",
    "               0, 1, 2, instrument=\"OSIRIS\", target=\"WASP-69\", delimiter=\"|\",\n",
    "               time_type=\"BJD-TDB\", time_offset=0)"
   ]
  },
  {
   "cell_type": "raw",
   "id": "5024d3e6",
   "metadata": {
    "ExecuteTime": {
     "end_time": "2022-06-01T18:47:13.647315Z",
     "start_time": "2022-06-01T18:47:13.523349Z"
    }
   },
   "source": [
    "# Done\n",
    "ingest_lc_data(\"Hartman_2009_HAT-P-12.dat\", \n",
    "               \"https://iopscience.iop.org/article/10.1088/0004-637X/706/1/785\", \n",
    "               0, 1, 2, instrument=\"FLWO\", target=\"HAT-P-12\", delimiter=\" \",\n",
    "               time_type=\"BJD-TDB\", time_offset=2454000, data_type=\"mag\")"
   ]
  },
  {
   "cell_type": "raw",
   "id": "2f2ada20",
   "metadata": {
    "ExecuteTime": {
     "end_time": "2022-06-01T20:20:32.621070Z",
     "start_time": "2022-06-01T20:20:32.559410Z"
    }
   },
   "source": [
    "# Done\n",
    "ingest_lc_data(\"Hartman_2011_HAT-P-18.dat\", \n",
    "               \"https://iopscience.iop.org/article/10.1088/0004-637X/726/1/52#apj374090\", \n",
    "               0, 1, 2, instrument=\"FLWO\", target=\"HAT-P-18\", delimiter=\" \",\n",
    "               time_type=\"BJD-TDB\", time_offset=2400000, data_type=\"mag\")"
   ]
  },
  {
   "cell_type": "raw",
   "id": "2be27801",
   "metadata": {
    "ExecuteTime": {
     "end_time": "2022-06-01T20:33:49.342132Z",
     "start_time": "2022-06-01T20:33:48.997883Z"
    }
   },
   "source": [
    "# Done\n",
    "ingest_lc_data(\"Howard_2012_HAT-P-17.dat\", \n",
    "               \"https://iopscience.iop.org/article/10.1088/0004-637X/749/2/134\", \n",
    "               0, 1, 2, inst_list=[\"FLWO\", \"WISE\", \"Schmidt\"], target=\"HAT-P-17\", delimiter=\" \",\n",
    "               time_type=\"BJD-TDB\", time_offset=2400000, data_type=\"mag\")"
   ]
  },
  {
   "cell_type": "raw",
   "id": "016ebc1b",
   "metadata": {
    "ExecuteTime": {
     "end_time": "2022-06-01T21:31:45.071080Z",
     "start_time": "2022-06-01T21:31:44.891180Z"
    }
   },
   "source": [
    "# Done\n",
    "ingest_lc_data(\"Hartman_2011_HAT-P-26.dat\", \n",
    "               \"https://iopscience.iop.org/article/10.1088/0004-637X/728/2/138\", \n",
    "               0, 1, 2, instrument=\"FLWO\", target=\"HAT-P-26\", delimiter=\" \",\n",
    "               time_type=\"BJD-TDB\", time_offset=2400000, data_type=\"mag\")"
   ]
  },
  {
   "cell_type": "raw",
   "id": "eaf9cdf0",
   "metadata": {
    "ExecuteTime": {
     "end_time": "2022-06-01T21:33:37.903273Z",
     "start_time": "2022-06-01T21:33:37.337112Z"
    }
   },
   "source": [
    "# Done\n",
    "ingest_lc_data(\"Hartman_2011_HAT-P-32.dat\", \n",
    "               \"https://iopscience.iop.org/article/10.1088/0004-637X/742/1/59\", \n",
    "               0, 1, 2, instrument=\"FLWO\", target=\"HAT-P-32\", delimiter=\" \",\n",
    "               time_type=\"BJD-TDB\", time_offset=2400000, data_type=\"mag\")"
   ]
  },
  {
   "cell_type": "raw",
   "id": "c9d88f29",
   "metadata": {
    "ExecuteTime": {
     "end_time": "2022-06-01T21:42:13.952485Z",
     "start_time": "2022-06-01T21:42:13.714014Z"
    }
   },
   "source": [
    "# Done\n",
    "ingest_lc_data(\"Hartman_2012_HAT-P-41.dat\", \n",
    "               \"https://iopscience.iop.org/article/10.1088/0004-6256/144/5/139\", \n",
    "               0, 1, 2, inst_list=[\"FLWO\", \"BOS\"], target=\"HAT-P-41\", delimiter=\" \",\n",
    "               time_type=\"BJD-TDB\", time_offset=2400000, data_type=\"mag\")"
   ]
  },
  {
   "cell_type": "raw",
   "id": "2462cd54",
   "metadata": {
    "ExecuteTime": {
     "end_time": "2022-06-24T18:33:10.936796Z",
     "start_time": "2022-06-24T18:33:10.927553Z"
    }
   },
   "source": [
    "# Done\n",
    "ingest_lc_data(\"Nortman_2012_HAT-P-32/wlc_run1.dat\", \n",
    "               \"https://www.aanda.org/articles/aa/full_html/2016/10/aa27323-15/aa27323-15.html\", \n",
    "               0, 1, 2, instrument=\"OSIRIS\", target=\"HAT-P-32\", delimiter=\"|\",\n",
    "               time_type=\"BJD-TDB\", time_offset=0, data_type=\"flux\")"
   ]
  },
  {
   "cell_type": "raw",
   "id": "b44dbe54",
   "metadata": {
    "ExecuteTime": {
     "end_time": "2022-06-24T18:33:25.374261Z",
     "start_time": "2022-06-24T18:33:25.359883Z"
    }
   },
   "source": [
    "# Done\n",
    "ingest_lc_data(\"Nortman_2012_HAT-P-32/wlc_run2.dat\", \n",
    "               \"https://www.aanda.org/articles/aa/full_html/2016/10/aa27323-15/aa27323-15.html\", \n",
    "               0, 1, 2, instrument=\"OSIRIS\", target=\"HAT-P-32\", delimiter=\"|\",\n",
    "               time_type=\"BJD-TDB\", time_offset=0, data_type=\"flux\")"
   ]
  },
  {
   "cell_type": "raw",
   "id": "f7a723be",
   "metadata": {
    "ExecuteTime": {
     "end_time": "2022-06-28T16:52:46.961081Z",
     "start_time": "2022-06-28T16:52:46.923930Z"
    }
   },
   "source": [
    "# Done\n",
    "from utils import ingest_lc_data\n",
    "\n",
    "ingest_lc_data(\"Wang_2019_HAT-P-32.dat\", \n",
    "               \"https://iopscience.iop.org/article/10.3847/1538-3881/aaf6b6\", \n",
    "               0, 1, 2, inst_list = ['Xinglong 60 cm Telescope','Schmidt'], target=\"HAT-P-32\", delimiter=\" \",\n",
    "               time_type=\"BJD-TDB\", time_offset=0, data_type=\"flux\")"
   ]
  },
  {
   "cell_type": "raw",
   "id": "07648c7d",
   "metadata": {
    "ExecuteTime": {
     "end_time": "2022-06-28T16:57:22.443620Z",
     "start_time": "2022-06-28T16:57:19.553171Z"
    }
   },
   "source": [
    "# Done\n",
    "ingest_lc_data(\"Motalebi_2015_spitzer.dat\", \n",
    "               \"https://www.aanda.org/articles/aa/full_html/2015/12/aa26822-15/aa26822-15.html\", \n",
    "               0, 1, 2, instrument=\"Spitzer\", target=\"HD-219134\", delimiter=\" \",\n",
    "               time_type=\"BJD-UTC\", time_offset=0, data_type=\"flux\")"
   ]
  },
  {
   "cell_type": "raw",
   "id": "a57a7ca5",
   "metadata": {
    "ExecuteTime": {
     "end_time": "2022-06-28T17:10:02.926794Z",
     "start_time": "2022-06-28T17:10:02.911036Z"
    }
   },
   "source": [
    "# Done\n",
    "ingest_lc_data(\"J_A+A_546_A27/table4.dat\", \n",
    "               \"https://www.aanda.org/articles/aa/full_html/2012/10/aa19623-12/aa19623-12.html\", \n",
    "               0, 1, 2, instrument=\"TRAPPIST\", target=\"GJ-3470\", delimiter=\" \",\n",
    "               time_type=\"BJD-TDB\", time_offset=0, data_type=\"flux\")"
   ]
  },
  {
   "cell_type": "raw",
   "id": "8111370b",
   "metadata": {
    "ExecuteTime": {
     "end_time": "2022-06-28T17:10:24.375509Z",
     "start_time": "2022-06-28T17:10:24.360324Z"
    }
   },
   "source": [
    "# Done\n",
    "ingest_lc_data(\"J_A+A_546_A27/table5.dat\", \n",
    "               \"https://www.aanda.org/articles/aa/full_html/2012/10/aa19623-12/aa19623-12.html\", \n",
    "               0, 1, 2, instrument=\"TRAPPIST\", target=\"GJ-3470\", delimiter=\" \",\n",
    "               time_type=\"BJD-TDB\", time_offset=0, data_type=\"flux\")"
   ]
  },
  {
   "cell_type": "raw",
   "id": "6d9b0900",
   "metadata": {
    "ExecuteTime": {
     "end_time": "2022-06-28T17:10:44.336140Z",
     "start_time": "2022-06-28T17:10:44.328237Z"
    }
   },
   "source": [
    "# Done\n",
    "ingest_lc_data(\"J_A+A_546_A27/table6.dat\", \n",
    "               \"https://www.aanda.org/articles/aa/full_html/2012/10/aa19623-12/aa19623-12.html\", \n",
    "               0, 1, 2, instrument=\"EulerCAM\", target=\"GJ-3470\", delimiter=\" \",\n",
    "               time_type=\"BJD-TDB\", time_offset=0, data_type=\"flux\")"
   ]
  },
  {
   "cell_type": "raw",
   "id": "f725ef61",
   "metadata": {
    "ExecuteTime": {
     "end_time": "2022-06-29T14:18:02.045641Z",
     "start_time": "2022-06-29T14:18:02.029942Z"
    }
   },
   "source": [
    "# Done\n",
    "ingest_lc_data(\"Pont_2007_HD-189733.dat\", \n",
    "               \"https://www.aanda.org/articles/aa/full/2007/48/aa8269-07/aa8269-07.html\", \n",
    "               1, 2, None, instrument=\"ACS\", target=\"HD-189733\", delimiter=\" \",\n",
    "               time_type=\"BJD-TDB\", time_offset=0, data_type=\"flux\", constant_error=0.0002)"
   ]
  },
  {
   "cell_type": "raw",
   "id": "3fcc3edd",
   "metadata": {
    "ExecuteTime": {
     "end_time": "2022-06-29T18:51:54.381096Z",
     "start_time": "2022-06-29T18:50:58.416275Z"
    }
   },
   "source": [
    "# Done\n",
    "from utils import ingest_lc_data\n",
    "ingest_lc_data(\"J_AJ_133_1828/table2.dat\", \n",
    "               \"https://iopscience.iop.org/article/10.1086/512159/fulltext/\", \n",
    "               3, 4, 5, inst_col=0, target=\"HD-189733\", delimiter=\" \",\n",
    "               time_type=\"HJD\", time_offset=0, data_type=\"flux\")"
   ]
  },
  {
   "cell_type": "raw",
   "id": "0f0c5363",
   "metadata": {
    "ExecuteTime": {
     "end_time": "2022-09-15T20:38:59.977377Z",
     "start_time": "2022-09-15T20:38:59.970931Z"
    }
   },
   "source": [
    "# Done\n",
    "from utils import ingest_lc_data\n",
    "ingest_lc_data(\"J_PASP_127_143/lc/wasp39_20140317_I.dat\", \n",
    "               \"https://iopscience.iop.org/article/10.1086/680233#pasp_127_948_143\", \n",
    "               3, 1, None, instrument=\"SPM 0.84\", target=\"WASP-39\", delimiter=\" \",\n",
    "               time_type=\"BJD-TDB\", time_offset=0, data_type=\"flux\")"
   ]
  },
  {
   "cell_type": "raw",
   "id": "92a7df65",
   "metadata": {
    "ExecuteTime": {
     "end_time": "2022-09-15T20:39:02.121212Z",
     "start_time": "2022-09-15T20:39:02.114099Z"
    }
   },
   "source": [
    "# Done\n",
    "from utils import ingest_lc_data\n",
    "ingest_lc_data(\"J_PASP_127_143/lc/wasp39_20140321_R.dat\", \n",
    "               \"https://iopscience.iop.org/article/10.1086/680233#pasp_127_948_143\", \n",
    "               3, 1, None, instrument=\"SPM 0.84\", target=\"WASP-39\", delimiter=\" \",\n",
    "               time_type=\"BJD-TDB\", time_offset=0, data_type=\"flux\")"
   ]
  },
  {
   "cell_type": "code",
   "execution_count": null,
   "id": "6b5c477d",
   "metadata": {},
   "outputs": [],
   "source": []
  }
 ],
 "metadata": {
  "kernelspec": {
   "display_name": "Python 3 (ipykernel)",
   "language": "python",
   "name": "python3"
  },
  "language_info": {
   "codemirror_mode": {
    "name": "ipython",
    "version": 3
   },
   "file_extension": ".py",
   "mimetype": "text/x-python",
   "name": "python",
   "nbconvert_exporter": "python",
   "pygments_lexer": "ipython3",
   "version": "3.9.7"
  }
 },
 "nbformat": 4,
 "nbformat_minor": 5
}
